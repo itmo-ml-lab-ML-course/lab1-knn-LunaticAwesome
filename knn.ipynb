{
 "cells": [
  {
   "cell_type": "code",
   "execution_count": 74,
   "id": "initial_id",
   "metadata": {
    "collapsed": true,
    "ExecuteTime": {
     "end_time": "2024-05-14T12:13:32.502250Z",
     "start_time": "2024-05-14T12:13:31.470261Z"
    }
   },
   "outputs": [],
   "source": [
    "import optuna\n",
    "from matplotlib import pyplot as plt\n",
    "from sklearn.model_selection import train_test_split\n",
    "from sklearn.neighbors import NearestNeighbors\n",
    "\n",
    "import numpy as np\n",
    "import pandas as pd\n",
    "import sklearn\n",
    "import scipy"
   ]
  },
  {
   "cell_type": "code",
   "outputs": [],
   "source": [
    "class KNN:\n",
    "    def __init__(self, k=1, kernel = 'uniform', metric = 'minkowski', p = 2, kernel_density=None, a=1, b=1):\n",
    "        self.apost_weights = None\n",
    "        self.X_train = []\n",
    "        self.y_train = []\n",
    "        self.k = k\n",
    "        add = 0\n",
    "        self.a = a\n",
    "        self.b = b\n",
    "        if kernel_density is None:\n",
    "            add = 1\n",
    "        self.neighbor_finder = NearestNeighbors(n_neighbors=(k + add), metric=metric, p=p)\n",
    "        self.kernel = kernel\n",
    "        self.kernel_density = kernel_density\n",
    "    \n",
    "    def fit(self, X, y, w=None):\n",
    "        self.X_train = X\n",
    "        self.y_train = y\n",
    "        self.apost_weights = w\n",
    "        self.neighbor_finder.fit(X)\n",
    "\n",
    "    def predict(self, X):\n",
    "        predictions_ = [self._predict(x) for x in X]\n",
    "        return np.array(predictions_)\n",
    "\n",
    "    def _predict(self, x):\n",
    "        distances, indices = self.neighbor_finder.kneighbors([x])\n",
    "        if self.kernel_density is None:\n",
    "            distances = np.divide(distances[0], distances[0][self.k]) \n",
    "            distances = distances[:-1]\n",
    "            indices = indices[0][:-1]\n",
    "        else:\n",
    "            distances = distances[0] / (np.ones(self.k) * self.kernel_density)\n",
    "            indices = indices[0]\n",
    "        [weights, labels] = self._get_weights(distances, indices)\n",
    "        scores = {}\n",
    "\n",
    "        for i in labels:\n",
    "            scores[i] = 0\n",
    "        for i in range(len(weights)):\n",
    "            scores[labels[i]] += weights[i]\n",
    "        if not bool(scores):\n",
    "            return y_train[0]\n",
    "        return max(scores, key=scores.get)\n",
    "    \n",
    "    def _get_weights(self, distances, indices):\n",
    "        weights = []\n",
    "        labels = []\n",
    "        for i in range(len(distances)):\n",
    "            x = distances[i]\n",
    "            if self.kernel == 'uniform':\n",
    "                if x < 1:\n",
    "                    weights.append(.5)\n",
    "                    labels.append(self.y_train[indices[i]])\n",
    "            if self.kernel == 'gauss':\n",
    "                weights.append(scipy.stats.norm.pdf(x))\n",
    "                labels.append(self.y_train[indices[i]])\n",
    "            if self.kernel == 'general':\n",
    "                if x < 1:\n",
    "                    weights.append((1 - abs(x) ** self.a) ** self.b)\n",
    "                    labels.append(self.y_train[indices[i]])\n",
    "        if self.apost_weights is not None:\n",
    "            for i in range(len(weights)):\n",
    "                weights[i] *= self.apost_weights[indices[i]]\n",
    "        return [weights, labels]"
   ],
   "metadata": {
    "collapsed": false,
    "ExecuteTime": {
     "end_time": "2024-05-14T13:15:29.800630Z",
     "start_time": "2024-05-14T13:15:29.782628Z"
    }
   },
   "id": "e1ddef7606852919",
   "execution_count": 102
  },
  {
   "cell_type": "code",
   "outputs": [
    {
     "name": "stdout",
     "output_type": "stream",
     "text": [
      "[6]\n"
     ]
    }
   ],
   "source": [
    "def test():\n",
    "    samples = [[0., 0., 0.], [1., 1., 1.], [2., 2., 2.]]\n",
    "    check = [0, 1, 6]\n",
    "    knn = KNN(k=1, kernel='general', a=1, b=1)\n",
    "    knn.fit(samples, check)\n",
    "    print(knn.predict([[1, 2, 2]]))\n",
    "    \n",
    "test()"
   ],
   "metadata": {
    "collapsed": false,
    "ExecuteTime": {
     "end_time": "2024-05-14T11:48:51.174941Z",
     "start_time": "2024-05-14T11:48:51.161940Z"
    }
   },
   "id": "77020f46657fb4a1",
   "execution_count": 45
  },
  {
   "cell_type": "code",
   "outputs": [
    {
     "data": {
      "text/plain": "           id diagnosis  radius_mean  texture_mean  perimeter_mean  area_mean  \\\n0      842302         M        17.99         10.38          122.80     1001.0   \n1      842517         M        20.57         17.77          132.90     1326.0   \n2    84300903         M        19.69         21.25          130.00     1203.0   \n3    84348301         M        11.42         20.38           77.58      386.1   \n4    84358402         M        20.29         14.34          135.10     1297.0   \n..        ...       ...          ...           ...             ...        ...   \n564    926424         M        21.56         22.39          142.00     1479.0   \n565    926682         M        20.13         28.25          131.20     1261.0   \n566    926954         M        16.60         28.08          108.30      858.1   \n567    927241         M        20.60         29.33          140.10     1265.0   \n568     92751         B         7.76         24.54           47.92      181.0   \n\n     smoothness_mean  compactness_mean  concavity_mean  concave points_mean  \\\n0            0.11840           0.27760         0.30010              0.14710   \n1            0.08474           0.07864         0.08690              0.07017   \n2            0.10960           0.15990         0.19740              0.12790   \n3            0.14250           0.28390         0.24140              0.10520   \n4            0.10030           0.13280         0.19800              0.10430   \n..               ...               ...             ...                  ...   \n564          0.11100           0.11590         0.24390              0.13890   \n565          0.09780           0.10340         0.14400              0.09791   \n566          0.08455           0.10230         0.09251              0.05302   \n567          0.11780           0.27700         0.35140              0.15200   \n568          0.05263           0.04362         0.00000              0.00000   \n\n     ...  radius_worst  texture_worst  perimeter_worst  area_worst  \\\n0    ...        25.380          17.33           184.60      2019.0   \n1    ...        24.990          23.41           158.80      1956.0   \n2    ...        23.570          25.53           152.50      1709.0   \n3    ...        14.910          26.50            98.87       567.7   \n4    ...        22.540          16.67           152.20      1575.0   \n..   ...           ...            ...              ...         ...   \n564  ...        25.450          26.40           166.10      2027.0   \n565  ...        23.690          38.25           155.00      1731.0   \n566  ...        18.980          34.12           126.70      1124.0   \n567  ...        25.740          39.42           184.60      1821.0   \n568  ...         9.456          30.37            59.16       268.6   \n\n     smoothness_worst  compactness_worst  concavity_worst  \\\n0             0.16220            0.66560           0.7119   \n1             0.12380            0.18660           0.2416   \n2             0.14440            0.42450           0.4504   \n3             0.20980            0.86630           0.6869   \n4             0.13740            0.20500           0.4000   \n..                ...                ...              ...   \n564           0.14100            0.21130           0.4107   \n565           0.11660            0.19220           0.3215   \n566           0.11390            0.30940           0.3403   \n567           0.16500            0.86810           0.9387   \n568           0.08996            0.06444           0.0000   \n\n     concave points_worst  symmetry_worst  fractal_dimension_worst  \n0                  0.2654          0.4601                  0.11890  \n1                  0.1860          0.2750                  0.08902  \n2                  0.2430          0.3613                  0.08758  \n3                  0.2575          0.6638                  0.17300  \n4                  0.1625          0.2364                  0.07678  \n..                    ...             ...                      ...  \n564                0.2216          0.2060                  0.07115  \n565                0.1628          0.2572                  0.06637  \n566                0.1418          0.2218                  0.07820  \n567                0.2650          0.4087                  0.12400  \n568                0.0000          0.2871                  0.07039  \n\n[569 rows x 32 columns]",
      "text/html": "<div>\n<style scoped>\n    .dataframe tbody tr th:only-of-type {\n        vertical-align: middle;\n    }\n\n    .dataframe tbody tr th {\n        vertical-align: top;\n    }\n\n    .dataframe thead th {\n        text-align: right;\n    }\n</style>\n<table border=\"1\" class=\"dataframe\">\n  <thead>\n    <tr style=\"text-align: right;\">\n      <th></th>\n      <th>id</th>\n      <th>diagnosis</th>\n      <th>radius_mean</th>\n      <th>texture_mean</th>\n      <th>perimeter_mean</th>\n      <th>area_mean</th>\n      <th>smoothness_mean</th>\n      <th>compactness_mean</th>\n      <th>concavity_mean</th>\n      <th>concave points_mean</th>\n      <th>...</th>\n      <th>radius_worst</th>\n      <th>texture_worst</th>\n      <th>perimeter_worst</th>\n      <th>area_worst</th>\n      <th>smoothness_worst</th>\n      <th>compactness_worst</th>\n      <th>concavity_worst</th>\n      <th>concave points_worst</th>\n      <th>symmetry_worst</th>\n      <th>fractal_dimension_worst</th>\n    </tr>\n  </thead>\n  <tbody>\n    <tr>\n      <th>0</th>\n      <td>842302</td>\n      <td>M</td>\n      <td>17.99</td>\n      <td>10.38</td>\n      <td>122.80</td>\n      <td>1001.0</td>\n      <td>0.11840</td>\n      <td>0.27760</td>\n      <td>0.30010</td>\n      <td>0.14710</td>\n      <td>...</td>\n      <td>25.380</td>\n      <td>17.33</td>\n      <td>184.60</td>\n      <td>2019.0</td>\n      <td>0.16220</td>\n      <td>0.66560</td>\n      <td>0.7119</td>\n      <td>0.2654</td>\n      <td>0.4601</td>\n      <td>0.11890</td>\n    </tr>\n    <tr>\n      <th>1</th>\n      <td>842517</td>\n      <td>M</td>\n      <td>20.57</td>\n      <td>17.77</td>\n      <td>132.90</td>\n      <td>1326.0</td>\n      <td>0.08474</td>\n      <td>0.07864</td>\n      <td>0.08690</td>\n      <td>0.07017</td>\n      <td>...</td>\n      <td>24.990</td>\n      <td>23.41</td>\n      <td>158.80</td>\n      <td>1956.0</td>\n      <td>0.12380</td>\n      <td>0.18660</td>\n      <td>0.2416</td>\n      <td>0.1860</td>\n      <td>0.2750</td>\n      <td>0.08902</td>\n    </tr>\n    <tr>\n      <th>2</th>\n      <td>84300903</td>\n      <td>M</td>\n      <td>19.69</td>\n      <td>21.25</td>\n      <td>130.00</td>\n      <td>1203.0</td>\n      <td>0.10960</td>\n      <td>0.15990</td>\n      <td>0.19740</td>\n      <td>0.12790</td>\n      <td>...</td>\n      <td>23.570</td>\n      <td>25.53</td>\n      <td>152.50</td>\n      <td>1709.0</td>\n      <td>0.14440</td>\n      <td>0.42450</td>\n      <td>0.4504</td>\n      <td>0.2430</td>\n      <td>0.3613</td>\n      <td>0.08758</td>\n    </tr>\n    <tr>\n      <th>3</th>\n      <td>84348301</td>\n      <td>M</td>\n      <td>11.42</td>\n      <td>20.38</td>\n      <td>77.58</td>\n      <td>386.1</td>\n      <td>0.14250</td>\n      <td>0.28390</td>\n      <td>0.24140</td>\n      <td>0.10520</td>\n      <td>...</td>\n      <td>14.910</td>\n      <td>26.50</td>\n      <td>98.87</td>\n      <td>567.7</td>\n      <td>0.20980</td>\n      <td>0.86630</td>\n      <td>0.6869</td>\n      <td>0.2575</td>\n      <td>0.6638</td>\n      <td>0.17300</td>\n    </tr>\n    <tr>\n      <th>4</th>\n      <td>84358402</td>\n      <td>M</td>\n      <td>20.29</td>\n      <td>14.34</td>\n      <td>135.10</td>\n      <td>1297.0</td>\n      <td>0.10030</td>\n      <td>0.13280</td>\n      <td>0.19800</td>\n      <td>0.10430</td>\n      <td>...</td>\n      <td>22.540</td>\n      <td>16.67</td>\n      <td>152.20</td>\n      <td>1575.0</td>\n      <td>0.13740</td>\n      <td>0.20500</td>\n      <td>0.4000</td>\n      <td>0.1625</td>\n      <td>0.2364</td>\n      <td>0.07678</td>\n    </tr>\n    <tr>\n      <th>...</th>\n      <td>...</td>\n      <td>...</td>\n      <td>...</td>\n      <td>...</td>\n      <td>...</td>\n      <td>...</td>\n      <td>...</td>\n      <td>...</td>\n      <td>...</td>\n      <td>...</td>\n      <td>...</td>\n      <td>...</td>\n      <td>...</td>\n      <td>...</td>\n      <td>...</td>\n      <td>...</td>\n      <td>...</td>\n      <td>...</td>\n      <td>...</td>\n      <td>...</td>\n      <td>...</td>\n    </tr>\n    <tr>\n      <th>564</th>\n      <td>926424</td>\n      <td>M</td>\n      <td>21.56</td>\n      <td>22.39</td>\n      <td>142.00</td>\n      <td>1479.0</td>\n      <td>0.11100</td>\n      <td>0.11590</td>\n      <td>0.24390</td>\n      <td>0.13890</td>\n      <td>...</td>\n      <td>25.450</td>\n      <td>26.40</td>\n      <td>166.10</td>\n      <td>2027.0</td>\n      <td>0.14100</td>\n      <td>0.21130</td>\n      <td>0.4107</td>\n      <td>0.2216</td>\n      <td>0.2060</td>\n      <td>0.07115</td>\n    </tr>\n    <tr>\n      <th>565</th>\n      <td>926682</td>\n      <td>M</td>\n      <td>20.13</td>\n      <td>28.25</td>\n      <td>131.20</td>\n      <td>1261.0</td>\n      <td>0.09780</td>\n      <td>0.10340</td>\n      <td>0.14400</td>\n      <td>0.09791</td>\n      <td>...</td>\n      <td>23.690</td>\n      <td>38.25</td>\n      <td>155.00</td>\n      <td>1731.0</td>\n      <td>0.11660</td>\n      <td>0.19220</td>\n      <td>0.3215</td>\n      <td>0.1628</td>\n      <td>0.2572</td>\n      <td>0.06637</td>\n    </tr>\n    <tr>\n      <th>566</th>\n      <td>926954</td>\n      <td>M</td>\n      <td>16.60</td>\n      <td>28.08</td>\n      <td>108.30</td>\n      <td>858.1</td>\n      <td>0.08455</td>\n      <td>0.10230</td>\n      <td>0.09251</td>\n      <td>0.05302</td>\n      <td>...</td>\n      <td>18.980</td>\n      <td>34.12</td>\n      <td>126.70</td>\n      <td>1124.0</td>\n      <td>0.11390</td>\n      <td>0.30940</td>\n      <td>0.3403</td>\n      <td>0.1418</td>\n      <td>0.2218</td>\n      <td>0.07820</td>\n    </tr>\n    <tr>\n      <th>567</th>\n      <td>927241</td>\n      <td>M</td>\n      <td>20.60</td>\n      <td>29.33</td>\n      <td>140.10</td>\n      <td>1265.0</td>\n      <td>0.11780</td>\n      <td>0.27700</td>\n      <td>0.35140</td>\n      <td>0.15200</td>\n      <td>...</td>\n      <td>25.740</td>\n      <td>39.42</td>\n      <td>184.60</td>\n      <td>1821.0</td>\n      <td>0.16500</td>\n      <td>0.86810</td>\n      <td>0.9387</td>\n      <td>0.2650</td>\n      <td>0.4087</td>\n      <td>0.12400</td>\n    </tr>\n    <tr>\n      <th>568</th>\n      <td>92751</td>\n      <td>B</td>\n      <td>7.76</td>\n      <td>24.54</td>\n      <td>47.92</td>\n      <td>181.0</td>\n      <td>0.05263</td>\n      <td>0.04362</td>\n      <td>0.00000</td>\n      <td>0.00000</td>\n      <td>...</td>\n      <td>9.456</td>\n      <td>30.37</td>\n      <td>59.16</td>\n      <td>268.6</td>\n      <td>0.08996</td>\n      <td>0.06444</td>\n      <td>0.0000</td>\n      <td>0.0000</td>\n      <td>0.2871</td>\n      <td>0.07039</td>\n    </tr>\n  </tbody>\n</table>\n<p>569 rows × 32 columns</p>\n</div>"
     },
     "execution_count": 46,
     "metadata": {},
     "output_type": "execute_result"
    }
   ],
   "source": [
    "data = pd.read_csv('KNNAlgorithmDataset.csv')\n",
    "data = data.loc[:, ~data.columns.str.contains('^Unnamed')]\n",
    "data"
   ],
   "metadata": {
    "collapsed": false,
    "ExecuteTime": {
     "end_time": "2024-05-14T11:48:51.950948Z",
     "start_time": "2024-05-14T11:48:51.922944Z"
    }
   },
   "id": "5dbcf4035ee330fe",
   "execution_count": 46
  },
  {
   "cell_type": "code",
   "outputs": [],
   "source": [
    "X = data.drop('diagnosis',axis=1).values \n",
    "y = data['diagnosis'].values\n",
    "X_train, X_test, y_train, y_test = train_test_split(X, y, test_size=0.2, random_state = 42, shuffle = True)"
   ],
   "metadata": {
    "collapsed": false,
    "ExecuteTime": {
     "end_time": "2024-05-14T11:48:52.790937Z",
     "start_time": "2024-05-14T11:48:52.783943Z"
    }
   },
   "id": "9128c35b20215615",
   "execution_count": 47
  },
  {
   "cell_type": "code",
   "outputs": [
    {
     "data": {
      "text/plain": "76.31578947368422"
     },
     "execution_count": 48,
     "metadata": {},
     "output_type": "execute_result"
    }
   ],
   "source": [
    "def accuracy(y_real, y_expected):\n",
    "    count = 0\n",
    "    for i in range(len(y_real)):\n",
    "        count += (y_real[i] == y_expected[i])\n",
    "    return count/len(y_expected) * 100\n",
    "\n",
    "my_knn = KNN(k=3)\n",
    "my_knn.fit(X_train, y_train)\n",
    "predictions = my_knn.predict(X_test)\n",
    "accuracy(y_test, predictions)"
   ],
   "metadata": {
    "collapsed": false,
    "ExecuteTime": {
     "end_time": "2024-05-14T11:48:53.729936Z",
     "start_time": "2024-05-14T11:48:53.137948Z"
    }
   },
   "id": "6eb16d3a4bea73d6",
   "execution_count": 48
  },
  {
   "cell_type": "code",
   "outputs": [
    {
     "data": {
      "text/plain": "76.31578947368422"
     },
     "execution_count": 49,
     "metadata": {},
     "output_type": "execute_result"
    }
   ],
   "source": [
    "knn = sklearn.neighbors.KNeighborsClassifier(n_neighbors=3)\n",
    "knn.fit(X_train, y_train)\n",
    "predictions = knn.predict(X_test)\n",
    "accuracy(y_test, predictions)"
   ],
   "metadata": {
    "collapsed": false,
    "ExecuteTime": {
     "end_time": "2024-05-14T11:48:54.502964Z",
     "start_time": "2024-05-14T11:48:54.488947Z"
    }
   },
   "id": "4a70520cdf952f0a",
   "execution_count": 49
  },
  {
   "cell_type": "markdown",
   "source": [
    "Наша реализация совпала с либой"
   ],
   "metadata": {
    "collapsed": false
   },
   "id": "41da0ea77b9160fe"
  },
  {
   "cell_type": "code",
   "outputs": [],
   "source": [
    "def my_objective(window_type, trial):\n",
    "    h = None\n",
    "    if window_type == 'fixed':\n",
    "        h = trial.suggest_float('h', 0.1, 500)\n",
    "        k = 250\n",
    "    else:\n",
    "        k = trial.suggest_int('k', 1, 400)\n",
    "    kernel = trial.suggest_categorical(\"Kernel\", ['uniform', 'general', 'gauss'])\n",
    "    metric = trial.suggest_categorical(\"Metric\", [\"minkowski\", 'euclidean', 'cosine'])\n",
    "    knn = KNN(k=k, kernel=kernel, metric=metric, kernel_density=h)\n",
    "    knn.fit(X_train, y_train)\n",
    "    predictions = knn.predict(X_test)\n",
    "    return accuracy(y_test, predictions)\n",
    "\n",
    "my_objective_fixed = lambda trial : my_objective('fixed', trial)\n",
    "my_objective_var = lambda trial : my_objective('var', trial)"
   ],
   "metadata": {
    "collapsed": false,
    "ExecuteTime": {
     "end_time": "2024-05-14T11:50:27.669646Z",
     "start_time": "2024-05-14T11:50:27.651632Z"
    }
   },
   "id": "ff914401ec0d6c01",
   "execution_count": 53
  },
  {
   "cell_type": "code",
   "outputs": [
    {
     "name": "stderr",
     "output_type": "stream",
     "text": [
      "[I 2024-05-14 14:49:06,889] A new study created in memory with name: no-name-3a6a45e1-a517-4513-b24d-101e4fcefeb2\n",
      "[I 2024-05-14 14:49:08,670] Trial 0 finished with value: 66.66666666666666 and parameters: {'k': 100, 'Kernel': 'gauss', 'Metric': 'minkowski'}. Best is trial 0 with value: 66.66666666666666.\n",
      "[I 2024-05-14 14:49:12,453] Trial 1 finished with value: 62.28070175438597 and parameters: {'k': 318, 'Kernel': 'gauss', 'Metric': 'minkowski'}. Best is trial 0 with value: 66.66666666666666.\n",
      "[I 2024-05-14 14:49:12,572] Trial 2 finished with value: 76.31578947368422 and parameters: {'k': 115, 'Kernel': 'general', 'Metric': 'cosine'}. Best is trial 2 with value: 76.31578947368422.\n",
      "[I 2024-05-14 14:49:12,922] Trial 3 finished with value: 66.66666666666666 and parameters: {'k': 149, 'Kernel': 'general', 'Metric': 'minkowski'}. Best is trial 2 with value: 76.31578947368422.\n",
      "[I 2024-05-14 14:49:13,278] Trial 4 finished with value: 62.28070175438597 and parameters: {'k': 307, 'Kernel': 'uniform', 'Metric': 'minkowski'}. Best is trial 2 with value: 76.31578947368422.\n",
      "[I 2024-05-14 14:49:16,536] Trial 5 finished with value: 62.28070175438597 and parameters: {'k': 341, 'Kernel': 'gauss', 'Metric': 'cosine'}. Best is trial 2 with value: 76.31578947368422.\n",
      "[I 2024-05-14 14:49:19,831] Trial 6 finished with value: 62.28070175438597 and parameters: {'k': 339, 'Kernel': 'gauss', 'Metric': 'cosine'}. Best is trial 2 with value: 76.31578947368422.\n",
      "[I 2024-05-14 14:49:19,973] Trial 7 finished with value: 74.56140350877193 and parameters: {'k': 206, 'Kernel': 'general', 'Metric': 'cosine'}. Best is trial 2 with value: 76.31578947368422.\n",
      "[I 2024-05-14 14:49:20,316] Trial 8 finished with value: 66.66666666666666 and parameters: {'k': 119, 'Kernel': 'uniform', 'Metric': 'minkowski'}. Best is trial 2 with value: 76.31578947368422.\n",
      "[I 2024-05-14 14:49:20,659] Trial 9 finished with value: 66.66666666666666 and parameters: {'k': 104, 'Kernel': 'uniform', 'Metric': 'euclidean'}. Best is trial 2 with value: 76.31578947368422.\n",
      "[I 2024-05-14 14:49:21,015] Trial 10 finished with value: 70.17543859649122 and parameters: {'k': 33, 'Kernel': 'general', 'Metric': 'euclidean'}. Best is trial 2 with value: 76.31578947368422.\n",
      "[I 2024-05-14 14:49:21,157] Trial 11 finished with value: 74.56140350877193 and parameters: {'k': 237, 'Kernel': 'general', 'Metric': 'cosine'}. Best is trial 2 with value: 76.31578947368422.\n",
      "[I 2024-05-14 14:49:21,306] Trial 12 finished with value: 74.56140350877193 and parameters: {'k': 217, 'Kernel': 'general', 'Metric': 'cosine'}. Best is trial 2 with value: 76.31578947368422.\n",
      "[I 2024-05-14 14:49:21,439] Trial 13 finished with value: 92.98245614035088 and parameters: {'k': 7, 'Kernel': 'general', 'Metric': 'cosine'}. Best is trial 13 with value: 92.98245614035088.\n",
      "[I 2024-05-14 14:49:21,546] Trial 14 finished with value: 91.22807017543859 and parameters: {'k': 2, 'Kernel': 'general', 'Metric': 'cosine'}. Best is trial 13 with value: 92.98245614035088.\n",
      "[I 2024-05-14 14:49:21,653] Trial 15 finished with value: 93.85964912280701 and parameters: {'k': 5, 'Kernel': 'general', 'Metric': 'cosine'}. Best is trial 15 with value: 93.85964912280701.\n",
      "[I 2024-05-14 14:49:21,766] Trial 16 finished with value: 88.59649122807018 and parameters: {'k': 55, 'Kernel': 'general', 'Metric': 'cosine'}. Best is trial 15 with value: 93.85964912280701.\n",
      "[I 2024-05-14 14:49:22,105] Trial 17 finished with value: 70.17543859649122 and parameters: {'k': 44, 'Kernel': 'general', 'Metric': 'euclidean'}. Best is trial 15 with value: 93.85964912280701.\n",
      "[I 2024-05-14 14:49:22,214] Trial 18 finished with value: 92.10526315789474 and parameters: {'k': 3, 'Kernel': 'general', 'Metric': 'cosine'}. Best is trial 15 with value: 93.85964912280701.\n",
      "[I 2024-05-14 14:49:22,342] Trial 19 finished with value: 75.43859649122807 and parameters: {'k': 162, 'Kernel': 'uniform', 'Metric': 'cosine'}. Best is trial 15 with value: 93.85964912280701.\n",
      "[I 2024-05-14 14:49:22,720] Trial 20 finished with value: 62.28070175438597 and parameters: {'k': 394, 'Kernel': 'general', 'Metric': 'euclidean'}. Best is trial 15 with value: 93.85964912280701.\n",
      "[I 2024-05-14 14:49:22,830] Trial 21 finished with value: 92.98245614035088 and parameters: {'k': 7, 'Kernel': 'general', 'Metric': 'cosine'}. Best is trial 15 with value: 93.85964912280701.\n",
      "[I 2024-05-14 14:49:22,945] Trial 22 finished with value: 82.45614035087719 and parameters: {'k': 68, 'Kernel': 'general', 'Metric': 'cosine'}. Best is trial 15 with value: 93.85964912280701.\n",
      "[I 2024-05-14 14:49:23,052] Trial 23 finished with value: 92.10526315789474 and parameters: {'k': 3, 'Kernel': 'general', 'Metric': 'cosine'}. Best is trial 15 with value: 93.85964912280701.\n",
      "[I 2024-05-14 14:49:23,174] Trial 24 finished with value: 79.82456140350878 and parameters: {'k': 76, 'Kernel': 'general', 'Metric': 'cosine'}. Best is trial 15 with value: 93.85964912280701.\n",
      "[I 2024-05-14 14:49:23,289] Trial 25 finished with value: 90.35087719298247 and parameters: {'k': 31, 'Kernel': 'general', 'Metric': 'cosine'}. Best is trial 15 with value: 93.85964912280701.\n",
      "[I 2024-05-14 14:49:23,422] Trial 26 finished with value: 75.43859649122807 and parameters: {'k': 151, 'Kernel': 'general', 'Metric': 'cosine'}. Best is trial 15 with value: 93.85964912280701.\n",
      "[I 2024-05-14 14:49:23,546] Trial 27 finished with value: 78.94736842105263 and parameters: {'k': 77, 'Kernel': 'general', 'Metric': 'cosine'}. Best is trial 15 with value: 93.85964912280701.\n",
      "[I 2024-05-14 14:49:24,088] Trial 28 finished with value: 70.17543859649122 and parameters: {'k': 22, 'Kernel': 'gauss', 'Metric': 'euclidean'}. Best is trial 15 with value: 93.85964912280701.\n",
      "[I 2024-05-14 14:49:24,212] Trial 29 finished with value: 62.28070175438597 and parameters: {'k': 264, 'Kernel': 'uniform', 'Metric': 'cosine'}. Best is trial 15 with value: 93.85964912280701.\n",
      "[I 2024-05-14 14:49:25,442] Trial 30 finished with value: 66.66666666666666 and parameters: {'k': 95, 'Kernel': 'gauss', 'Metric': 'minkowski'}. Best is trial 15 with value: 93.85964912280701.\n",
      "[I 2024-05-14 14:49:25,546] Trial 31 finished with value: 91.22807017543859 and parameters: {'k': 1, 'Kernel': 'general', 'Metric': 'cosine'}. Best is trial 15 with value: 93.85964912280701.\n",
      "[I 2024-05-14 14:49:25,663] Trial 32 finished with value: 90.35087719298247 and parameters: {'k': 28, 'Kernel': 'general', 'Metric': 'cosine'}. Best is trial 15 with value: 93.85964912280701.\n",
      "[I 2024-05-14 14:49:25,784] Trial 33 finished with value: 88.59649122807018 and parameters: {'k': 55, 'Kernel': 'general', 'Metric': 'cosine'}. Best is trial 15 with value: 93.85964912280701.\n",
      "[I 2024-05-14 14:49:25,899] Trial 34 finished with value: 91.22807017543859 and parameters: {'k': 18, 'Kernel': 'general', 'Metric': 'cosine'}. Best is trial 15 with value: 93.85964912280701.\n",
      "[I 2024-05-14 14:49:26,250] Trial 35 finished with value: 65.78947368421053 and parameters: {'k': 54, 'Kernel': 'general', 'Metric': 'minkowski'}. Best is trial 15 with value: 93.85964912280701.\n",
      "[I 2024-05-14 14:49:26,370] Trial 36 finished with value: 76.31578947368422 and parameters: {'k': 129, 'Kernel': 'general', 'Metric': 'cosine'}. Best is trial 15 with value: 93.85964912280701.\n",
      "[I 2024-05-14 14:49:27,275] Trial 37 finished with value: 77.19298245614034 and parameters: {'k': 87, 'Kernel': 'gauss', 'Metric': 'cosine'}. Best is trial 15 with value: 93.85964912280701.\n",
      "[I 2024-05-14 14:49:27,624] Trial 38 finished with value: 66.66666666666666 and parameters: {'k': 167, 'Kernel': 'general', 'Metric': 'minkowski'}. Best is trial 15 with value: 93.85964912280701.\n",
      "[I 2024-05-14 14:49:27,730] Trial 39 finished with value: 92.98245614035088 and parameters: {'k': 16, 'Kernel': 'uniform', 'Metric': 'cosine'}. Best is trial 15 with value: 93.85964912280701.\n",
      "[I 2024-05-14 14:49:27,838] Trial 40 finished with value: 82.45614035087719 and parameters: {'k': 43, 'Kernel': 'uniform', 'Metric': 'cosine'}. Best is trial 15 with value: 93.85964912280701.\n",
      "[I 2024-05-14 14:49:27,951] Trial 41 finished with value: 93.85964912280701 and parameters: {'k': 17, 'Kernel': 'uniform', 'Metric': 'cosine'}. Best is trial 15 with value: 93.85964912280701.\n",
      "[I 2024-05-14 14:49:28,065] Trial 42 finished with value: 91.22807017543859 and parameters: {'k': 21, 'Kernel': 'uniform', 'Metric': 'cosine'}. Best is trial 15 with value: 93.85964912280701.\n",
      "[I 2024-05-14 14:49:28,190] Trial 43 finished with value: 77.19298245614034 and parameters: {'k': 63, 'Kernel': 'uniform', 'Metric': 'cosine'}. Best is trial 15 with value: 93.85964912280701.\n",
      "[I 2024-05-14 14:49:28,298] Trial 44 finished with value: 88.59649122807018 and parameters: {'k': 35, 'Kernel': 'uniform', 'Metric': 'cosine'}. Best is trial 15 with value: 93.85964912280701.\n",
      "[I 2024-05-14 14:49:28,411] Trial 45 finished with value: 92.98245614035088 and parameters: {'k': 18, 'Kernel': 'uniform', 'Metric': 'cosine'}. Best is trial 15 with value: 93.85964912280701.\n",
      "[I 2024-05-14 14:49:28,770] Trial 46 finished with value: 66.66666666666666 and parameters: {'k': 104, 'Kernel': 'uniform', 'Metric': 'minkowski'}. Best is trial 15 with value: 93.85964912280701.\n",
      "[I 2024-05-14 14:49:29,120] Trial 47 finished with value: 65.78947368421053 and parameters: {'k': 42, 'Kernel': 'uniform', 'Metric': 'euclidean'}. Best is trial 15 with value: 93.85964912280701.\n",
      "[I 2024-05-14 14:49:29,243] Trial 48 finished with value: 75.43859649122807 and parameters: {'k': 130, 'Kernel': 'uniform', 'Metric': 'cosine'}. Best is trial 15 with value: 93.85964912280701.\n",
      "[I 2024-05-14 14:49:29,481] Trial 49 finished with value: 92.98245614035088 and parameters: {'k': 11, 'Kernel': 'gauss', 'Metric': 'cosine'}. Best is trial 15 with value: 93.85964912280701.\n",
      "[I 2024-05-14 14:49:29,611] Trial 50 finished with value: 77.19298245614034 and parameters: {'k': 82, 'Kernel': 'uniform', 'Metric': 'cosine'}. Best is trial 15 with value: 93.85964912280701.\n",
      "[I 2024-05-14 14:49:29,728] Trial 51 finished with value: 91.22807017543859 and parameters: {'k': 20, 'Kernel': 'uniform', 'Metric': 'cosine'}. Best is trial 15 with value: 93.85964912280701.\n",
      "[I 2024-05-14 14:49:29,852] Trial 52 finished with value: 78.0701754385965 and parameters: {'k': 52, 'Kernel': 'uniform', 'Metric': 'cosine'}. Best is trial 15 with value: 93.85964912280701.\n",
      "[I 2024-05-14 14:49:29,961] Trial 53 finished with value: 92.98245614035088 and parameters: {'k': 15, 'Kernel': 'uniform', 'Metric': 'cosine'}. Best is trial 15 with value: 93.85964912280701.\n",
      "[I 2024-05-14 14:49:30,074] Trial 54 finished with value: 89.47368421052632 and parameters: {'k': 32, 'Kernel': 'uniform', 'Metric': 'cosine'}. Best is trial 15 with value: 93.85964912280701.\n",
      "[I 2024-05-14 14:49:30,206] Trial 55 finished with value: 62.28070175438597 and parameters: {'k': 265, 'Kernel': 'uniform', 'Metric': 'cosine'}. Best is trial 15 with value: 93.85964912280701.\n",
      "[I 2024-05-14 14:49:30,552] Trial 56 finished with value: 64.91228070175438 and parameters: {'k': 62, 'Kernel': 'uniform', 'Metric': 'euclidean'}. Best is trial 15 with value: 93.85964912280701.\n",
      "[I 2024-05-14 14:49:30,660] Trial 57 finished with value: 91.22807017543859 and parameters: {'k': 2, 'Kernel': 'uniform', 'Metric': 'cosine'}. Best is trial 15 with value: 93.85964912280701.\n",
      "[I 2024-05-14 14:49:30,784] Trial 58 finished with value: 89.47368421052632 and parameters: {'k': 42, 'Kernel': 'general', 'Metric': 'cosine'}. Best is trial 15 with value: 93.85964912280701.\n",
      "[I 2024-05-14 14:49:34,260] Trial 59 finished with value: 62.28070175438597 and parameters: {'k': 382, 'Kernel': 'gauss', 'Metric': 'cosine'}. Best is trial 15 with value: 93.85964912280701.\n",
      "[I 2024-05-14 14:49:34,608] Trial 60 finished with value: 66.66666666666666 and parameters: {'k': 70, 'Kernel': 'general', 'Metric': 'minkowski'}. Best is trial 15 with value: 93.85964912280701.\n",
      "[I 2024-05-14 14:49:34,850] Trial 61 finished with value: 92.98245614035088 and parameters: {'k': 11, 'Kernel': 'gauss', 'Metric': 'cosine'}. Best is trial 15 with value: 93.85964912280701.\n",
      "[I 2024-05-14 14:49:35,082] Trial 62 finished with value: 92.98245614035088 and parameters: {'k': 10, 'Kernel': 'gauss', 'Metric': 'cosine'}. Best is trial 15 with value: 93.85964912280701.\n",
      "[I 2024-05-14 14:49:35,540] Trial 63 finished with value: 89.47368421052632 and parameters: {'k': 35, 'Kernel': 'gauss', 'Metric': 'cosine'}. Best is trial 15 with value: 93.85964912280701.\n",
      "[I 2024-05-14 14:49:35,895] Trial 64 finished with value: 90.35087719298247 and parameters: {'k': 24, 'Kernel': 'gauss', 'Metric': 'cosine'}. Best is trial 15 with value: 93.85964912280701.\n",
      "[I 2024-05-14 14:49:36,133] Trial 65 finished with value: 92.98245614035088 and parameters: {'k': 11, 'Kernel': 'gauss', 'Metric': 'cosine'}. Best is trial 15 with value: 93.85964912280701.\n",
      "[I 2024-05-14 14:49:36,304] Trial 66 finished with value: 89.47368421052632 and parameters: {'k': 50, 'Kernel': 'general', 'Metric': 'cosine'}. Best is trial 15 with value: 93.85964912280701.\n",
      "[I 2024-05-14 14:49:36,696] Trial 67 finished with value: 66.66666666666666 and parameters: {'k': 191, 'Kernel': 'general', 'Metric': 'euclidean'}. Best is trial 15 with value: 93.85964912280701.\n",
      "[I 2024-05-14 14:49:36,808] Trial 68 finished with value: 89.47368421052632 and parameters: {'k': 29, 'Kernel': 'uniform', 'Metric': 'cosine'}. Best is trial 15 with value: 93.85964912280701.\n",
      "[I 2024-05-14 14:49:36,970] Trial 69 finished with value: 91.22807017543859 and parameters: {'k': 18, 'Kernel': 'general', 'Metric': 'cosine'}. Best is trial 15 with value: 93.85964912280701.\n",
      "[I 2024-05-14 14:49:37,138] Trial 70 finished with value: 92.10526315789474 and parameters: {'k': 4, 'Kernel': 'gauss', 'Metric': 'cosine'}. Best is trial 15 with value: 93.85964912280701.\n",
      "[I 2024-05-14 14:49:37,261] Trial 71 finished with value: 92.10526315789474 and parameters: {'k': 14, 'Kernel': 'uniform', 'Metric': 'cosine'}. Best is trial 15 with value: 93.85964912280701.\n",
      "[I 2024-05-14 14:49:37,373] Trial 72 finished with value: 91.22807017543859 and parameters: {'k': 1, 'Kernel': 'uniform', 'Metric': 'cosine'}. Best is trial 15 with value: 93.85964912280701.\n",
      "[I 2024-05-14 14:49:37,486] Trial 73 finished with value: 85.96491228070175 and parameters: {'k': 40, 'Kernel': 'uniform', 'Metric': 'cosine'}. Best is trial 15 with value: 93.85964912280701.\n",
      "[I 2024-05-14 14:49:37,599] Trial 74 finished with value: 90.35087719298247 and parameters: {'k': 26, 'Kernel': 'uniform', 'Metric': 'cosine'}. Best is trial 15 with value: 93.85964912280701.\n",
      "[I 2024-05-14 14:49:37,710] Trial 75 finished with value: 77.19298245614034 and parameters: {'k': 61, 'Kernel': 'uniform', 'Metric': 'cosine'}. Best is trial 15 with value: 93.85964912280701.\n",
      "[I 2024-05-14 14:49:37,822] Trial 76 finished with value: 91.22807017543859 and parameters: {'k': 17, 'Kernel': 'general', 'Metric': 'cosine'}. Best is trial 15 with value: 93.85964912280701.\n",
      "[I 2024-05-14 14:49:37,940] Trial 77 finished with value: 79.82456140350878 and parameters: {'k': 48, 'Kernel': 'uniform', 'Metric': 'cosine'}. Best is trial 15 with value: 93.85964912280701.\n",
      "[I 2024-05-14 14:49:38,478] Trial 78 finished with value: 62.28070175438597 and parameters: {'k': 300, 'Kernel': 'general', 'Metric': 'minkowski'}. Best is trial 15 with value: 93.85964912280701.\n",
      "[I 2024-05-14 14:49:38,631] Trial 79 finished with value: 77.19298245614034 and parameters: {'k': 89, 'Kernel': 'uniform', 'Metric': 'cosine'}. Best is trial 15 with value: 93.85964912280701.\n",
      "[I 2024-05-14 14:49:39,029] Trial 80 finished with value: 70.17543859649122 and parameters: {'k': 34, 'Kernel': 'general', 'Metric': 'euclidean'}. Best is trial 15 with value: 93.85964912280701.\n",
      "[I 2024-05-14 14:49:39,281] Trial 81 finished with value: 92.98245614035088 and parameters: {'k': 13, 'Kernel': 'gauss', 'Metric': 'cosine'}. Best is trial 15 with value: 93.85964912280701.\n",
      "[I 2024-05-14 14:49:39,503] Trial 82 finished with value: 92.10526315789474 and parameters: {'k': 9, 'Kernel': 'gauss', 'Metric': 'cosine'}. Best is trial 15 with value: 93.85964912280701.\n",
      "[I 2024-05-14 14:49:39,846] Trial 83 finished with value: 91.22807017543859 and parameters: {'k': 22, 'Kernel': 'gauss', 'Metric': 'cosine'}. Best is trial 15 with value: 93.85964912280701.\n",
      "[I 2024-05-14 14:49:39,981] Trial 84 finished with value: 91.22807017543859 and parameters: {'k': 1, 'Kernel': 'gauss', 'Metric': 'cosine'}. Best is trial 15 with value: 93.85964912280701.\n",
      "[I 2024-05-14 14:49:40,373] Trial 85 finished with value: 90.35087719298247 and parameters: {'k': 28, 'Kernel': 'gauss', 'Metric': 'cosine'}. Best is trial 15 with value: 93.85964912280701.\n",
      "[I 2024-05-14 14:49:40,490] Trial 86 finished with value: 92.10526315789474 and parameters: {'k': 11, 'Kernel': 'uniform', 'Metric': 'cosine'}. Best is trial 15 with value: 93.85964912280701.\n",
      "[I 2024-05-14 14:49:41,251] Trial 87 finished with value: 77.19298245614034 and parameters: {'k': 70, 'Kernel': 'gauss', 'Metric': 'cosine'}. Best is trial 15 with value: 93.85964912280701.\n",
      "[I 2024-05-14 14:49:41,373] Trial 88 finished with value: 89.47368421052632 and parameters: {'k': 43, 'Kernel': 'general', 'Metric': 'cosine'}. Best is trial 15 with value: 93.85964912280701.\n",
      "[I 2024-05-14 14:49:41,496] Trial 89 finished with value: 77.19298245614034 and parameters: {'k': 56, 'Kernel': 'uniform', 'Metric': 'cosine'}. Best is trial 15 with value: 93.85964912280701.\n",
      "[I 2024-05-14 14:49:41,613] Trial 90 finished with value: 90.35087719298247 and parameters: {'k': 35, 'Kernel': 'general', 'Metric': 'cosine'}. Best is trial 15 with value: 93.85964912280701.\n",
      "[I 2024-05-14 14:49:41,865] Trial 91 finished with value: 92.10526315789474 and parameters: {'k': 12, 'Kernel': 'gauss', 'Metric': 'cosine'}. Best is trial 15 with value: 93.85964912280701.\n",
      "[I 2024-05-14 14:49:42,108] Trial 92 finished with value: 92.98245614035088 and parameters: {'k': 10, 'Kernel': 'gauss', 'Metric': 'cosine'}. Best is trial 15 with value: 93.85964912280701.\n",
      "[I 2024-05-14 14:49:42,462] Trial 93 finished with value: 91.22807017543859 and parameters: {'k': 22, 'Kernel': 'gauss', 'Metric': 'cosine'}. Best is trial 15 with value: 93.85964912280701.\n",
      "[I 2024-05-14 14:49:42,842] Trial 94 finished with value: 90.35087719298247 and parameters: {'k': 27, 'Kernel': 'gauss', 'Metric': 'cosine'}. Best is trial 15 with value: 93.85964912280701.\n",
      "[I 2024-05-14 14:49:43,293] Trial 95 finished with value: 73.68421052631578 and parameters: {'k': 10, 'Kernel': 'gauss', 'Metric': 'minkowski'}. Best is trial 15 with value: 93.85964912280701.\n",
      "[I 2024-05-14 14:49:43,405] Trial 96 finished with value: 85.96491228070175 and parameters: {'k': 39, 'Kernel': 'uniform', 'Metric': 'cosine'}. Best is trial 15 with value: 93.85964912280701.\n",
      "[I 2024-05-14 14:49:43,540] Trial 97 finished with value: 91.22807017543859 and parameters: {'k': 1, 'Kernel': 'gauss', 'Metric': 'cosine'}. Best is trial 15 with value: 93.85964912280701.\n",
      "[I 2024-05-14 14:49:43,891] Trial 98 finished with value: 72.80701754385966 and parameters: {'k': 18, 'Kernel': 'general', 'Metric': 'euclidean'}. Best is trial 15 with value: 93.85964912280701.\n",
      "[I 2024-05-14 14:49:44,003] Trial 99 finished with value: 78.0701754385965 and parameters: {'k': 46, 'Kernel': 'uniform', 'Metric': 'cosine'}. Best is trial 15 with value: 93.85964912280701.\n"
     ]
    },
    {
     "data": {
      "text/plain": "FrozenTrial(number=15, state=TrialState.COMPLETE, values=[93.85964912280701], datetime_start=datetime.datetime(2024, 5, 14, 14, 49, 21, 547744), datetime_complete=datetime.datetime(2024, 5, 14, 14, 49, 21, 653745), params={'k': 5, 'Kernel': 'general', 'Metric': 'cosine'}, user_attrs={}, system_attrs={}, intermediate_values={}, distributions={'k': IntDistribution(high=400, log=False, low=1, step=1), 'Kernel': CategoricalDistribution(choices=('uniform', 'general', 'gauss')), 'Metric': CategoricalDistribution(choices=('minkowski', 'euclidean', 'cosine'))}, trial_id=15, value=None)"
     },
     "execution_count": 51,
     "metadata": {},
     "output_type": "execute_result"
    }
   ],
   "source": [
    "study = optuna.create_study(direction=\"maximize\")\n",
    "study.optimize(my_objective_var, n_trials=100)\n",
    "best_var = study.best_trial\n",
    "best_var"
   ],
   "metadata": {
    "collapsed": false,
    "ExecuteTime": {
     "end_time": "2024-05-14T11:49:44.015348Z",
     "start_time": "2024-05-14T11:49:06.886752Z"
    }
   },
   "id": "e13aba01ab529ea",
   "execution_count": 51
  },
  {
   "cell_type": "code",
   "outputs": [
    {
     "name": "stderr",
     "output_type": "stream",
     "text": [
      "[I 2024-05-14 14:50:30,231] A new study created in memory with name: no-name-55798086-fd8e-43fd-9dcd-b720c9c2ed68\n",
      "[I 2024-05-14 14:50:30,732] Trial 0 finished with value: 62.28070175438597 and parameters: {'h': 0.49373387025315496, 'Kernel': 'uniform', 'Metric': 'euclidean'}. Best is trial 0 with value: 62.28070175438597.\n",
      "[I 2024-05-14 14:50:31,168] Trial 1 finished with value: 62.28070175438597 and parameters: {'h': 259.8823508270606, 'Kernel': 'general', 'Metric': 'euclidean'}. Best is trial 0 with value: 62.28070175438597.\n",
      "[I 2024-05-14 14:50:31,565] Trial 2 finished with value: 65.78947368421053 and parameters: {'h': 487.02029189545414, 'Kernel': 'general', 'Metric': 'euclidean'}. Best is trial 2 with value: 65.78947368421053.\n",
      "[I 2024-05-14 14:50:32,115] Trial 3 finished with value: 63.1578947368421 and parameters: {'h': 91.22171840981618, 'Kernel': 'uniform', 'Metric': 'euclidean'}. Best is trial 2 with value: 65.78947368421053.\n",
      "[I 2024-05-14 14:50:34,925] Trial 4 finished with value: 78.0701754385965 and parameters: {'h': 307.46095700903356, 'Kernel': 'gauss', 'Metric': 'euclidean'}. Best is trial 4 with value: 78.0701754385965.\n",
      "[I 2024-05-14 14:50:35,320] Trial 5 finished with value: 64.03508771929825 and parameters: {'h': 333.717036588742, 'Kernel': 'uniform', 'Metric': 'minkowski'}. Best is trial 4 with value: 78.0701754385965.\n",
      "[I 2024-05-14 14:50:38,368] Trial 6 finished with value: 79.82456140350878 and parameters: {'h': 442.30852054525934, 'Kernel': 'gauss', 'Metric': 'euclidean'}. Best is trial 6 with value: 79.82456140350878.\n",
      "[I 2024-05-14 14:50:38,720] Trial 7 finished with value: 62.28070175438597 and parameters: {'h': 0.8935414870761832, 'Kernel': 'uniform', 'Metric': 'euclidean'}. Best is trial 6 with value: 79.82456140350878.\n",
      "[I 2024-05-14 14:50:41,580] Trial 8 finished with value: 78.0701754385965 and parameters: {'h': 28.983999131572634, 'Kernel': 'gauss', 'Metric': 'minkowski'}. Best is trial 6 with value: 79.82456140350878.\n",
      "[I 2024-05-14 14:50:42,005] Trial 9 finished with value: 61.40350877192983 and parameters: {'h': 233.1774801287252, 'Kernel': 'uniform', 'Metric': 'minkowski'}. Best is trial 6 with value: 79.82456140350878.\n",
      "[I 2024-05-14 14:50:44,388] Trial 10 finished with value: 62.28070175438597 and parameters: {'h': 499.81757141117356, 'Kernel': 'gauss', 'Metric': 'cosine'}. Best is trial 6 with value: 79.82456140350878.\n",
      "[I 2024-05-14 14:50:46,725] Trial 11 finished with value: 62.28070175438597 and parameters: {'h': 378.09756231774986, 'Kernel': 'gauss', 'Metric': 'cosine'}. Best is trial 6 with value: 79.82456140350878.\n",
      "[I 2024-05-14 14:50:49,401] Trial 12 finished with value: 78.94736842105263 and parameters: {'h': 400.1780324399352, 'Kernel': 'gauss', 'Metric': 'euclidean'}. Best is trial 6 with value: 79.82456140350878.\n",
      "[I 2024-05-14 14:50:52,293] Trial 13 finished with value: 78.94736842105263 and parameters: {'h': 422.55694396531675, 'Kernel': 'gauss', 'Metric': 'euclidean'}. Best is trial 6 with value: 79.82456140350878.\n",
      "[I 2024-05-14 14:50:55,070] Trial 14 finished with value: 78.94736842105263 and parameters: {'h': 426.9712981926814, 'Kernel': 'gauss', 'Metric': 'euclidean'}. Best is trial 6 with value: 79.82456140350878.\n",
      "[I 2024-05-14 14:50:57,451] Trial 15 finished with value: 62.28070175438597 and parameters: {'h': 178.49942322554529, 'Kernel': 'gauss', 'Metric': 'cosine'}. Best is trial 6 with value: 79.82456140350878.\n",
      "[I 2024-05-14 14:50:57,822] Trial 16 finished with value: 65.78947368421053 and parameters: {'h': 421.6668316551183, 'Kernel': 'general', 'Metric': 'euclidean'}. Best is trial 6 with value: 79.82456140350878.\n",
      "[I 2024-05-14 14:51:00,773] Trial 17 finished with value: 78.94736842105263 and parameters: {'h': 359.0700867253149, 'Kernel': 'gauss', 'Metric': 'euclidean'}. Best is trial 6 with value: 79.82456140350878.\n",
      "[I 2024-05-14 14:51:03,573] Trial 18 finished with value: 78.0701754385965 and parameters: {'h': 281.60882945031506, 'Kernel': 'gauss', 'Metric': 'minkowski'}. Best is trial 6 with value: 79.82456140350878.\n",
      "[I 2024-05-14 14:51:05,898] Trial 19 finished with value: 62.28070175438597 and parameters: {'h': 173.7580929038046, 'Kernel': 'gauss', 'Metric': 'cosine'}. Best is trial 6 with value: 79.82456140350878.\n",
      "[I 2024-05-14 14:51:06,250] Trial 20 finished with value: 65.78947368421053 and parameters: {'h': 456.28668226405273, 'Kernel': 'general', 'Metric': 'euclidean'}. Best is trial 6 with value: 79.82456140350878.\n",
      "[I 2024-05-14 14:51:09,083] Trial 21 finished with value: 78.94736842105263 and parameters: {'h': 400.7370197841754, 'Kernel': 'gauss', 'Metric': 'euclidean'}. Best is trial 6 with value: 79.82456140350878.\n",
      "[I 2024-05-14 14:51:11,987] Trial 22 finished with value: 78.94736842105263 and parameters: {'h': 434.2897015607975, 'Kernel': 'gauss', 'Metric': 'euclidean'}. Best is trial 6 with value: 79.82456140350878.\n",
      "[I 2024-05-14 14:51:14,727] Trial 23 finished with value: 78.94736842105263 and parameters: {'h': 362.7559863932799, 'Kernel': 'gauss', 'Metric': 'euclidean'}. Best is trial 6 with value: 79.82456140350878.\n",
      "[I 2024-05-14 14:51:17,471] Trial 24 finished with value: 79.82456140350878 and parameters: {'h': 469.17492031344534, 'Kernel': 'gauss', 'Metric': 'euclidean'}. Best is trial 6 with value: 79.82456140350878.\n",
      "[I 2024-05-14 14:51:20,122] Trial 25 finished with value: 78.94736842105263 and parameters: {'h': 483.6801375432309, 'Kernel': 'gauss', 'Metric': 'euclidean'}. Best is trial 6 with value: 79.82456140350878.\n",
      "[I 2024-05-14 14:51:23,368] Trial 26 finished with value: 79.82456140350878 and parameters: {'h': 461.85346059340924, 'Kernel': 'gauss', 'Metric': 'euclidean'}. Best is trial 6 with value: 79.82456140350878.\n",
      "[I 2024-05-14 14:51:26,290] Trial 27 finished with value: 79.82456140350878 and parameters: {'h': 464.8539286579358, 'Kernel': 'gauss', 'Metric': 'euclidean'}. Best is trial 6 with value: 79.82456140350878.\n",
      "[I 2024-05-14 14:51:29,240] Trial 28 finished with value: 78.0701754385965 and parameters: {'h': 330.9608833392922, 'Kernel': 'gauss', 'Metric': 'minkowski'}. Best is trial 6 with value: 79.82456140350878.\n",
      "[I 2024-05-14 14:51:29,398] Trial 29 finished with value: 62.28070175438597 and parameters: {'h': 457.87973124222157, 'Kernel': 'general', 'Metric': 'cosine'}. Best is trial 6 with value: 79.82456140350878.\n",
      "[I 2024-05-14 14:51:29,856] Trial 30 finished with value: 64.91228070175438 and parameters: {'h': 381.5819692289915, 'Kernel': 'uniform', 'Metric': 'euclidean'}. Best is trial 6 with value: 79.82456140350878.\n",
      "[I 2024-05-14 14:51:32,644] Trial 31 finished with value: 79.82456140350878 and parameters: {'h': 464.16254492220935, 'Kernel': 'gauss', 'Metric': 'euclidean'}. Best is trial 6 with value: 79.82456140350878.\n",
      "[I 2024-05-14 14:51:35,414] Trial 32 finished with value: 79.82456140350878 and parameters: {'h': 457.8297742592699, 'Kernel': 'gauss', 'Metric': 'euclidean'}. Best is trial 6 with value: 79.82456140350878.\n",
      "[I 2024-05-14 14:51:38,328] Trial 33 finished with value: 78.94736842105263 and parameters: {'h': 475.64293022814627, 'Kernel': 'gauss', 'Metric': 'euclidean'}. Best is trial 6 with value: 79.82456140350878.\n",
      "[I 2024-05-14 14:51:38,699] Trial 34 finished with value: 65.78947368421053 and parameters: {'h': 435.19497731050365, 'Kernel': 'general', 'Metric': 'euclidean'}. Best is trial 6 with value: 79.82456140350878.\n",
      "[I 2024-05-14 14:51:41,836] Trial 35 finished with value: 78.94736842105263 and parameters: {'h': 398.93758409303905, 'Kernel': 'gauss', 'Metric': 'euclidean'}. Best is trial 6 with value: 79.82456140350878.\n",
      "[I 2024-05-14 14:51:44,753] Trial 36 finished with value: 78.94736842105263 and parameters: {'h': 483.82577094030006, 'Kernel': 'gauss', 'Metric': 'euclidean'}. Best is trial 6 with value: 79.82456140350878.\n",
      "[I 2024-05-14 14:51:45,109] Trial 37 finished with value: 65.78947368421053 and parameters: {'h': 497.24785613409927, 'Kernel': 'uniform', 'Metric': 'euclidean'}. Best is trial 6 with value: 79.82456140350878.\n",
      "[I 2024-05-14 14:51:48,111] Trial 38 finished with value: 78.0701754385965 and parameters: {'h': 228.61853098515513, 'Kernel': 'gauss', 'Metric': 'euclidean'}. Best is trial 6 with value: 79.82456140350878.\n",
      "[I 2024-05-14 14:51:48,480] Trial 39 finished with value: 62.28070175438597 and parameters: {'h': 296.724302273483, 'Kernel': 'general', 'Metric': 'minkowski'}. Best is trial 6 with value: 79.82456140350878.\n",
      "[I 2024-05-14 14:51:48,824] Trial 40 finished with value: 64.03508771929825 and parameters: {'h': 333.45559186200904, 'Kernel': 'uniform', 'Metric': 'euclidean'}. Best is trial 6 with value: 79.82456140350878.\n",
      "[I 2024-05-14 14:51:51,663] Trial 41 finished with value: 79.82456140350878 and parameters: {'h': 450.4252810315168, 'Kernel': 'gauss', 'Metric': 'euclidean'}. Best is trial 6 with value: 79.82456140350878.\n",
      "[I 2024-05-14 14:51:54,611] Trial 42 finished with value: 79.82456140350878 and parameters: {'h': 466.3147712318098, 'Kernel': 'gauss', 'Metric': 'euclidean'}. Best is trial 6 with value: 79.82456140350878.\n",
      "[I 2024-05-14 14:51:57,821] Trial 43 finished with value: 78.94736842105263 and parameters: {'h': 498.84812061908707, 'Kernel': 'gauss', 'Metric': 'euclidean'}. Best is trial 6 with value: 79.82456140350878.\n",
      "[I 2024-05-14 14:52:00,849] Trial 44 finished with value: 78.94736842105263 and parameters: {'h': 409.08404490021064, 'Kernel': 'gauss', 'Metric': 'euclidean'}. Best is trial 6 with value: 79.82456140350878.\n",
      "[I 2024-05-14 14:52:03,958] Trial 45 finished with value: 79.82456140350878 and parameters: {'h': 446.66741807458607, 'Kernel': 'gauss', 'Metric': 'euclidean'}. Best is trial 6 with value: 79.82456140350878.\n",
      "[I 2024-05-14 14:52:06,457] Trial 46 finished with value: 62.28070175438597 and parameters: {'h': 379.7201773641092, 'Kernel': 'gauss', 'Metric': 'cosine'}. Best is trial 6 with value: 79.82456140350878.\n",
      "[I 2024-05-14 14:52:09,881] Trial 47 finished with value: 78.0701754385965 and parameters: {'h': 117.31181125256046, 'Kernel': 'gauss', 'Metric': 'euclidean'}. Best is trial 6 with value: 79.82456140350878.\n",
      "[I 2024-05-14 14:52:12,825] Trial 48 finished with value: 78.94736842105263 and parameters: {'h': 474.6082414255558, 'Kernel': 'gauss', 'Metric': 'minkowski'}. Best is trial 6 with value: 79.82456140350878.\n",
      "[I 2024-05-14 14:52:13,180] Trial 49 finished with value: 65.78947368421053 and parameters: {'h': 420.6190515370774, 'Kernel': 'uniform', 'Metric': 'euclidean'}. Best is trial 6 with value: 79.82456140350878.\n",
      "[I 2024-05-14 14:52:16,263] Trial 50 finished with value: 78.94736842105263 and parameters: {'h': 353.1618830423121, 'Kernel': 'gauss', 'Metric': 'euclidean'}. Best is trial 6 with value: 79.82456140350878.\n",
      "[I 2024-05-14 14:52:18,938] Trial 51 finished with value: 79.82456140350878 and parameters: {'h': 445.8247665125202, 'Kernel': 'gauss', 'Metric': 'euclidean'}. Best is trial 6 with value: 79.82456140350878.\n",
      "[I 2024-05-14 14:52:21,669] Trial 52 finished with value: 79.82456140350878 and parameters: {'h': 466.35313017384624, 'Kernel': 'gauss', 'Metric': 'euclidean'}. Best is trial 6 with value: 79.82456140350878.\n",
      "[I 2024-05-14 14:52:24,446] Trial 53 finished with value: 78.94736842105263 and parameters: {'h': 436.23661870302914, 'Kernel': 'gauss', 'Metric': 'euclidean'}. Best is trial 6 with value: 79.82456140350878.\n",
      "[I 2024-05-14 14:52:27,261] Trial 54 finished with value: 78.94736842105263 and parameters: {'h': 408.3691188422287, 'Kernel': 'gauss', 'Metric': 'euclidean'}. Best is trial 6 with value: 79.82456140350878.\n",
      "[I 2024-05-14 14:52:30,019] Trial 55 finished with value: 78.94736842105263 and parameters: {'h': 472.9429551134956, 'Kernel': 'gauss', 'Metric': 'euclidean'}. Best is trial 6 with value: 79.82456140350878.\n",
      "[I 2024-05-14 14:52:32,387] Trial 56 finished with value: 62.28070175438597 and parameters: {'h': 393.19461459989424, 'Kernel': 'gauss', 'Metric': 'cosine'}. Best is trial 6 with value: 79.82456140350878.\n",
      "[I 2024-05-14 14:52:35,153] Trial 57 finished with value: 78.0701754385965 and parameters: {'h': 66.3366493393678, 'Kernel': 'gauss', 'Metric': 'euclidean'}. Best is trial 6 with value: 79.82456140350878.\n",
      "[I 2024-05-14 14:52:35,486] Trial 58 finished with value: 64.91228070175438 and parameters: {'h': 417.73691812377524, 'Kernel': 'general', 'Metric': 'minkowski'}. Best is trial 6 with value: 79.82456140350878.\n",
      "[I 2024-05-14 14:52:38,249] Trial 59 finished with value: 79.82456140350878 and parameters: {'h': 454.3874061549964, 'Kernel': 'gauss', 'Metric': 'euclidean'}. Best is trial 6 with value: 79.82456140350878.\n",
      "[I 2024-05-14 14:52:41,006] Trial 60 finished with value: 78.94736842105263 and parameters: {'h': 492.8046997962972, 'Kernel': 'gauss', 'Metric': 'euclidean'}. Best is trial 6 with value: 79.82456140350878.\n",
      "[I 2024-05-14 14:52:43,987] Trial 61 finished with value: 79.82456140350878 and parameters: {'h': 447.6739219960234, 'Kernel': 'gauss', 'Metric': 'euclidean'}. Best is trial 6 with value: 79.82456140350878.\n",
      "[I 2024-05-14 14:52:46,885] Trial 62 finished with value: 79.82456140350878 and parameters: {'h': 461.4589629582274, 'Kernel': 'gauss', 'Metric': 'euclidean'}. Best is trial 6 with value: 79.82456140350878.\n",
      "[I 2024-05-14 14:52:49,852] Trial 63 finished with value: 78.94736842105263 and parameters: {'h': 431.34846509795995, 'Kernel': 'gauss', 'Metric': 'euclidean'}. Best is trial 6 with value: 79.82456140350878.\n",
      "[I 2024-05-14 14:52:52,948] Trial 64 finished with value: 78.94736842105263 and parameters: {'h': 479.782135501947, 'Kernel': 'gauss', 'Metric': 'euclidean'}. Best is trial 6 with value: 79.82456140350878.\n",
      "[I 2024-05-14 14:52:55,757] Trial 65 finished with value: 78.94736842105263 and parameters: {'h': 438.59054293480506, 'Kernel': 'gauss', 'Metric': 'euclidean'}. Best is trial 6 with value: 79.82456140350878.\n",
      "[I 2024-05-14 14:52:58,092] Trial 66 finished with value: 62.28070175438597 and parameters: {'h': 485.4547571680598, 'Kernel': 'gauss', 'Metric': 'cosine'}. Best is trial 6 with value: 79.82456140350878.\n",
      "[I 2024-05-14 14:52:58,470] Trial 67 finished with value: 64.03508771929825 and parameters: {'h': 388.25746061534585, 'Kernel': 'uniform', 'Metric': 'euclidean'}. Best is trial 6 with value: 79.82456140350878.\n",
      "[I 2024-05-14 14:53:01,460] Trial 68 finished with value: 78.94736842105263 and parameters: {'h': 367.3717393135148, 'Kernel': 'gauss', 'Metric': 'euclidean'}. Best is trial 6 with value: 79.82456140350878.\n",
      "[I 2024-05-14 14:53:01,811] Trial 69 finished with value: 65.78947368421053 and parameters: {'h': 456.86980823875155, 'Kernel': 'general', 'Metric': 'euclidean'}. Best is trial 6 with value: 79.82456140350878.\n",
      "[I 2024-05-14 14:53:04,532] Trial 70 finished with value: 78.94736842105263 and parameters: {'h': 420.53416690169263, 'Kernel': 'gauss', 'Metric': 'minkowski'}. Best is trial 6 with value: 79.82456140350878.\n",
      "[I 2024-05-14 14:53:07,272] Trial 71 finished with value: 79.82456140350878 and parameters: {'h': 466.5652325131835, 'Kernel': 'gauss', 'Metric': 'euclidean'}. Best is trial 6 with value: 79.82456140350878.\n",
      "[I 2024-05-14 14:53:10,061] Trial 72 finished with value: 79.82456140350878 and parameters: {'h': 464.66441106078537, 'Kernel': 'gauss', 'Metric': 'euclidean'}. Best is trial 6 with value: 79.82456140350878.\n",
      "[I 2024-05-14 14:53:12,907] Trial 73 finished with value: 78.94736842105263 and parameters: {'h': 484.93475084768517, 'Kernel': 'gauss', 'Metric': 'euclidean'}. Best is trial 6 with value: 79.82456140350878.\n",
      "[I 2024-05-14 14:53:15,708] Trial 74 finished with value: 78.0701754385965 and parameters: {'h': 258.69660273602994, 'Kernel': 'gauss', 'Metric': 'euclidean'}. Best is trial 6 with value: 79.82456140350878.\n",
      "[I 2024-05-14 14:53:18,505] Trial 75 finished with value: 78.94736842105263 and parameters: {'h': 440.1424712437056, 'Kernel': 'gauss', 'Metric': 'euclidean'}. Best is trial 6 with value: 79.82456140350878.\n",
      "[I 2024-05-14 14:53:21,333] Trial 76 finished with value: 78.94736842105263 and parameters: {'h': 408.4886144429164, 'Kernel': 'gauss', 'Metric': 'euclidean'}. Best is trial 6 with value: 79.82456140350878.\n",
      "[I 2024-05-14 14:53:24,138] Trial 77 finished with value: 78.0701754385965 and parameters: {'h': 200.34175847274128, 'Kernel': 'gauss', 'Metric': 'euclidean'}. Best is trial 6 with value: 79.82456140350878.\n",
      "[I 2024-05-14 14:53:24,471] Trial 78 finished with value: 65.78947368421053 and parameters: {'h': 499.4296523343742, 'Kernel': 'uniform', 'Metric': 'euclidean'}. Best is trial 6 with value: 79.82456140350878.\n",
      "[I 2024-05-14 14:53:26,781] Trial 79 finished with value: 62.28070175438597 and parameters: {'h': 449.1576154095309, 'Kernel': 'gauss', 'Metric': 'cosine'}. Best is trial 6 with value: 79.82456140350878.\n",
      "[I 2024-05-14 14:53:29,545] Trial 80 finished with value: 78.94736842105263 and parameters: {'h': 427.0659877196664, 'Kernel': 'gauss', 'Metric': 'euclidean'}. Best is trial 6 with value: 79.82456140350878.\n",
      "[I 2024-05-14 14:53:32,269] Trial 81 finished with value: 79.82456140350878 and parameters: {'h': 470.1628209846282, 'Kernel': 'gauss', 'Metric': 'euclidean'}. Best is trial 6 with value: 79.82456140350878.\n",
      "[I 2024-05-14 14:53:35,010] Trial 82 finished with value: 79.82456140350878 and parameters: {'h': 446.36156285274484, 'Kernel': 'gauss', 'Metric': 'euclidean'}. Best is trial 6 with value: 79.82456140350878.\n",
      "[I 2024-05-14 14:53:38,076] Trial 83 finished with value: 79.82456140350878 and parameters: {'h': 455.98260865881224, 'Kernel': 'gauss', 'Metric': 'euclidean'}. Best is trial 6 with value: 79.82456140350878.\n",
      "[I 2024-05-14 14:53:41,165] Trial 84 finished with value: 78.94736842105263 and parameters: {'h': 479.186483566861, 'Kernel': 'gauss', 'Metric': 'euclidean'}. Best is trial 6 with value: 79.82456140350878.\n",
      "[I 2024-05-14 14:53:43,845] Trial 85 finished with value: 78.94736842105263 and parameters: {'h': 416.47558277548706, 'Kernel': 'gauss', 'Metric': 'euclidean'}. Best is trial 6 with value: 79.82456140350878.\n",
      "[I 2024-05-14 14:53:44,175] Trial 86 finished with value: 65.78947368421053 and parameters: {'h': 438.14748637706214, 'Kernel': 'general', 'Metric': 'euclidean'}. Best is trial 6 with value: 79.82456140350878.\n",
      "[I 2024-05-14 14:53:46,921] Trial 87 finished with value: 78.94736842105263 and parameters: {'h': 142.69813206299335, 'Kernel': 'gauss', 'Metric': 'minkowski'}. Best is trial 6 with value: 79.82456140350878.\n",
      "[I 2024-05-14 14:53:49,611] Trial 88 finished with value: 79.82456140350878 and parameters: {'h': 467.5533986138182, 'Kernel': 'gauss', 'Metric': 'euclidean'}. Best is trial 6 with value: 79.82456140350878.\n",
      "[I 2024-05-14 14:53:52,722] Trial 89 finished with value: 78.94736842105263 and parameters: {'h': 428.4350010715219, 'Kernel': 'gauss', 'Metric': 'euclidean'}. Best is trial 6 with value: 79.82456140350878.\n",
      "[I 2024-05-14 14:53:55,512] Trial 90 finished with value: 78.94736842105263 and parameters: {'h': 349.2594813653642, 'Kernel': 'gauss', 'Metric': 'euclidean'}. Best is trial 6 with value: 79.82456140350878.\n",
      "[I 2024-05-14 14:53:58,513] Trial 91 finished with value: 79.82456140350878 and parameters: {'h': 443.96355596159356, 'Kernel': 'gauss', 'Metric': 'euclidean'}. Best is trial 6 with value: 79.82456140350878.\n",
      "[I 2024-05-14 14:54:01,683] Trial 92 finished with value: 78.94736842105263 and parameters: {'h': 491.96950785582186, 'Kernel': 'gauss', 'Metric': 'euclidean'}. Best is trial 6 with value: 79.82456140350878.\n",
      "[I 2024-05-14 14:54:04,828] Trial 93 finished with value: 79.82456140350878 and parameters: {'h': 451.2290861381961, 'Kernel': 'gauss', 'Metric': 'euclidean'}. Best is trial 6 with value: 79.82456140350878.\n",
      "[I 2024-05-14 14:54:07,575] Trial 94 finished with value: 78.94736842105263 and parameters: {'h': 403.15435480706265, 'Kernel': 'gauss', 'Metric': 'euclidean'}. Best is trial 6 with value: 79.82456140350878.\n",
      "[I 2024-05-14 14:54:10,584] Trial 95 finished with value: 78.94736842105263 and parameters: {'h': 476.07677194560245, 'Kernel': 'gauss', 'Metric': 'euclidean'}. Best is trial 6 with value: 79.82456140350878.\n",
      "[I 2024-05-14 14:54:10,927] Trial 96 finished with value: 65.78947368421053 and parameters: {'h': 459.7962164845654, 'Kernel': 'uniform', 'Metric': 'euclidean'}. Best is trial 6 with value: 79.82456140350878.\n",
      "[I 2024-05-14 14:54:13,607] Trial 97 finished with value: 62.28070175438597 and parameters: {'h': 428.031091372642, 'Kernel': 'gauss', 'Metric': 'cosine'}. Best is trial 6 with value: 79.82456140350878.\n",
      "[I 2024-05-14 14:54:16,495] Trial 98 finished with value: 78.94736842105263 and parameters: {'h': 484.7430143174853, 'Kernel': 'gauss', 'Metric': 'euclidean'}. Best is trial 6 with value: 79.82456140350878.\n",
      "[I 2024-05-14 14:54:19,164] Trial 99 finished with value: 79.82456140350878 and parameters: {'h': 447.4890136572912, 'Kernel': 'gauss', 'Metric': 'euclidean'}. Best is trial 6 with value: 79.82456140350878.\n"
     ]
    },
    {
     "data": {
      "text/plain": "FrozenTrial(number=6, state=TrialState.COMPLETE, values=[79.82456140350878], datetime_start=datetime.datetime(2024, 5, 14, 14, 50, 35, 321563), datetime_complete=datetime.datetime(2024, 5, 14, 14, 50, 38, 368092), params={'h': 442.30852054525934, 'Kernel': 'gauss', 'Metric': 'euclidean'}, user_attrs={}, system_attrs={}, intermediate_values={}, distributions={'h': FloatDistribution(high=500.0, log=False, low=0.1, step=None), 'Kernel': CategoricalDistribution(choices=('uniform', 'general', 'gauss')), 'Metric': CategoricalDistribution(choices=('minkowski', 'euclidean', 'cosine'))}, trial_id=6, value=None)"
     },
     "execution_count": 54,
     "metadata": {},
     "output_type": "execute_result"
    }
   ],
   "source": [
    "study = optuna.create_study(direction='maximize')\n",
    "study.optimize(my_objective_fixed, n_trials=100)\n",
    "best_fixed = study.best_trial\n",
    "best_fixed"
   ],
   "metadata": {
    "collapsed": false,
    "ExecuteTime": {
     "end_time": "2024-05-14T11:54:19.173479Z",
     "start_time": "2024-05-14T11:50:30.229624Z"
    }
   },
   "id": "aa5bf2a55fcc6ccf",
   "execution_count": 54
  },
  {
   "cell_type": "code",
   "outputs": [
    {
     "name": "stderr",
     "output_type": "stream",
     "text": [
      "[I 2024-05-14 15:02:49,069] A new study created in memory with name: no-name-e2c005ef-d95c-4185-88a7-5c4b48c7b41c\n",
      "[I 2024-05-14 15:02:49,079] Trial 0 finished with value: 92.10526315789474 and parameters: {'k': 69, 'Weight function': 'distance', 'Metric': 'cosine', 'Minkowski degree': 3.7663696938041435}. Best is trial 0 with value: 92.10526315789474.\n",
      "[I 2024-05-14 15:02:49,085] Trial 1 finished with value: 90.35087719298247 and parameters: {'k': 58, 'Weight function': 'distance', 'Metric': 'cosine', 'Minkowski degree': 2.7266969924319335}. Best is trial 0 with value: 92.10526315789474.\n",
      "[I 2024-05-14 15:02:49,094] Trial 2 finished with value: 76.31578947368422 and parameters: {'k': 102, 'Weight function': 'uniform', 'Metric': 'cosine', 'Minkowski degree': 4.084155052569541}. Best is trial 0 with value: 92.10526315789474.\n",
      "[I 2024-05-14 15:02:49,103] Trial 3 finished with value: 70.17543859649122 and parameters: {'k': 83, 'Weight function': 'distance', 'Metric': 'minkowski', 'Minkowski degree': 2.2239270834015197}. Best is trial 0 with value: 92.10526315789474.\n",
      "[I 2024-05-14 15:02:49,113] Trial 4 finished with value: 69.2982456140351 and parameters: {'k': 138, 'Weight function': 'distance', 'Metric': 'minkowski', 'Minkowski degree': 2.808281085388672}. Best is trial 0 with value: 92.10526315789474.\n",
      "[I 2024-05-14 15:02:49,119] Trial 5 finished with value: 92.10526315789474 and parameters: {'k': 147, 'Weight function': 'distance', 'Metric': 'cosine', 'Minkowski degree': 4.703524937157175}. Best is trial 0 with value: 92.10526315789474.\n",
      "[I 2024-05-14 15:02:49,127] Trial 6 finished with value: 92.10526315789474 and parameters: {'k': 174, 'Weight function': 'distance', 'Metric': 'cosine', 'Minkowski degree': 1.0651613711723935}. Best is trial 0 with value: 92.10526315789474.\n",
      "[I 2024-05-14 15:02:49,134] Trial 7 finished with value: 69.2982456140351 and parameters: {'k': 30, 'Weight function': 'uniform', 'Metric': 'minkowski', 'Minkowski degree': 4.284248434763699}. Best is trial 0 with value: 92.10526315789474.\n",
      "[I 2024-05-14 15:02:49,142] Trial 8 finished with value: 72.80701754385966 and parameters: {'k': 11, 'Weight function': 'uniform', 'Metric': 'minkowski', 'Minkowski degree': 3.6709726285063096}. Best is trial 0 with value: 92.10526315789474.\n",
      "[I 2024-05-14 15:02:49,153] Trial 9 finished with value: 69.2982456140351 and parameters: {'k': 135, 'Weight function': 'distance', 'Metric': 'minkowski', 'Minkowski degree': 3.270332958074882}. Best is trial 0 with value: 92.10526315789474.\n",
      "[I 2024-05-14 15:02:49,180] Trial 10 finished with value: 77.19298245614034 and parameters: {'k': 63, 'Weight function': 'uniform', 'Metric': 'cosine', 'Minkowski degree': 1.7357647883982414}. Best is trial 0 with value: 92.10526315789474.\n",
      "[I 2024-05-14 15:02:49,200] Trial 11 finished with value: 92.10526315789474 and parameters: {'k': 181, 'Weight function': 'distance', 'Metric': 'cosine', 'Minkowski degree': 4.959528253806375}. Best is trial 0 with value: 92.10526315789474.\n",
      "[I 2024-05-14 15:02:49,222] Trial 12 finished with value: 92.10526315789474 and parameters: {'k': 125, 'Weight function': 'distance', 'Metric': 'cosine', 'Minkowski degree': 4.934482071846672}. Best is trial 0 with value: 92.10526315789474.\n",
      "[I 2024-05-14 15:02:49,248] Trial 13 finished with value: 92.10526315789474 and parameters: {'k': 153, 'Weight function': 'distance', 'Metric': 'cosine', 'Minkowski degree': 4.169557301700931}. Best is trial 0 with value: 92.10526315789474.\n",
      "[I 2024-05-14 15:02:49,268] Trial 14 finished with value: 92.10526315789474 and parameters: {'k': 100, 'Weight function': 'distance', 'Metric': 'cosine', 'Minkowski degree': 3.656657186507227}. Best is trial 0 with value: 92.10526315789474.\n",
      "[I 2024-05-14 15:02:49,287] Trial 15 finished with value: 92.10526315789474 and parameters: {'k': 198, 'Weight function': 'distance', 'Metric': 'cosine', 'Minkowski degree': 4.532019719467421}. Best is trial 0 with value: 92.10526315789474.\n",
      "[I 2024-05-14 15:02:49,304] Trial 16 finished with value: 91.22807017543859 and parameters: {'k': 48, 'Weight function': 'distance', 'Metric': 'cosine', 'Minkowski degree': 3.6962487401768813}. Best is trial 0 with value: 92.10526315789474.\n",
      "[I 2024-05-14 15:02:49,323] Trial 17 finished with value: 92.10526315789474 and parameters: {'k': 103, 'Weight function': 'distance', 'Metric': 'cosine', 'Minkowski degree': 4.604189010014268}. Best is trial 0 with value: 92.10526315789474.\n",
      "[I 2024-05-14 15:02:49,345] Trial 18 finished with value: 77.19298245614034 and parameters: {'k': 77, 'Weight function': 'uniform', 'Metric': 'cosine', 'Minkowski degree': 3.396203154605743}. Best is trial 0 with value: 92.10526315789474.\n",
      "[I 2024-05-14 15:02:49,365] Trial 19 finished with value: 92.10526315789474 and parameters: {'k': 163, 'Weight function': 'distance', 'Metric': 'cosine', 'Minkowski degree': 4.4912919633924115}. Best is trial 0 with value: 92.10526315789474.\n",
      "[I 2024-05-14 15:02:49,384] Trial 20 finished with value: 92.10526315789474 and parameters: {'k': 113, 'Weight function': 'distance', 'Metric': 'cosine', 'Minkowski degree': 3.9145195956426595}. Best is trial 0 with value: 92.10526315789474.\n",
      "[I 2024-05-14 15:02:49,405] Trial 21 finished with value: 92.10526315789474 and parameters: {'k': 171, 'Weight function': 'distance', 'Metric': 'cosine', 'Minkowski degree': 1.1839220037689215}. Best is trial 0 with value: 92.10526315789474.\n",
      "[I 2024-05-14 15:02:49,425] Trial 22 finished with value: 92.10526315789474 and parameters: {'k': 193, 'Weight function': 'distance', 'Metric': 'cosine', 'Minkowski degree': 1.0220521974563908}. Best is trial 0 with value: 92.10526315789474.\n",
      "[I 2024-05-14 15:02:49,444] Trial 23 finished with value: 92.10526315789474 and parameters: {'k': 149, 'Weight function': 'distance', 'Metric': 'cosine', 'Minkowski degree': 2.4440596964446195}. Best is trial 0 with value: 92.10526315789474.\n",
      "[I 2024-05-14 15:02:49,462] Trial 24 finished with value: 92.10526315789474 and parameters: {'k': 179, 'Weight function': 'distance', 'Metric': 'cosine', 'Minkowski degree': 1.838404519244731}. Best is trial 0 with value: 92.10526315789474.\n",
      "[I 2024-05-14 15:02:49,479] Trial 25 finished with value: 92.10526315789474 and parameters: {'k': 81, 'Weight function': 'distance', 'Metric': 'cosine', 'Minkowski degree': 3.1835662725211065}. Best is trial 0 with value: 92.10526315789474.\n",
      "[I 2024-05-14 15:02:49,498] Trial 26 finished with value: 62.28070175438597 and parameters: {'k': 160, 'Weight function': 'uniform', 'Metric': 'minkowski', 'Minkowski degree': 1.3634022526369314}. Best is trial 0 with value: 92.10526315789474.\n",
      "[I 2024-05-14 15:02:49,514] Trial 27 finished with value: 92.10526315789474 and parameters: {'k': 122, 'Weight function': 'distance', 'Metric': 'cosine', 'Minkowski degree': 2.253651513986277}. Best is trial 0 with value: 92.10526315789474.\n",
      "[I 2024-05-14 15:02:49,530] Trial 28 finished with value: 92.10526315789474 and parameters: {'k': 29, 'Weight function': 'distance', 'Metric': 'cosine', 'Minkowski degree': 2.9456345230374135}. Best is trial 0 with value: 92.10526315789474.\n",
      "[I 2024-05-14 15:02:49,546] Trial 29 finished with value: 92.10526315789474 and parameters: {'k': 143, 'Weight function': 'distance', 'Metric': 'cosine', 'Minkowski degree': 2.656072452370218}. Best is trial 0 with value: 92.10526315789474.\n",
      "[I 2024-05-14 15:02:49,561] Trial 30 finished with value: 90.35087719298247 and parameters: {'k': 58, 'Weight function': 'distance', 'Metric': 'cosine', 'Minkowski degree': 4.693386146031843}. Best is trial 0 with value: 92.10526315789474.\n",
      "[I 2024-05-14 15:02:49,578] Trial 31 finished with value: 92.10526315789474 and parameters: {'k': 177, 'Weight function': 'distance', 'Metric': 'cosine', 'Minkowski degree': 4.9979232141374785}. Best is trial 0 with value: 92.10526315789474.\n",
      "[I 2024-05-14 15:02:49,596] Trial 32 finished with value: 92.10526315789474 and parameters: {'k': 187, 'Weight function': 'distance', 'Metric': 'cosine', 'Minkowski degree': 4.766473900414766}. Best is trial 0 with value: 92.10526315789474.\n",
      "[I 2024-05-14 15:02:49,614] Trial 33 finished with value: 92.10526315789474 and parameters: {'k': 167, 'Weight function': 'distance', 'Metric': 'cosine', 'Minkowski degree': 4.36623847290715}. Best is trial 0 with value: 92.10526315789474.\n",
      "[I 2024-05-14 15:02:49,631] Trial 34 finished with value: 92.10526315789474 and parameters: {'k': 184, 'Weight function': 'distance', 'Metric': 'cosine', 'Minkowski degree': 3.9865467856225756}. Best is trial 0 with value: 92.10526315789474.\n",
      "[I 2024-05-14 15:02:49,652] Trial 35 finished with value: 62.28070175438597 and parameters: {'k': 155, 'Weight function': 'uniform', 'Metric': 'minkowski', 'Minkowski degree': 4.177116796040521}. Best is trial 0 with value: 92.10526315789474.\n",
      "[I 2024-05-14 15:02:49,670] Trial 36 finished with value: 92.10526315789474 and parameters: {'k': 200, 'Weight function': 'distance', 'Metric': 'cosine', 'Minkowski degree': 4.873123720606026}. Best is trial 0 with value: 92.10526315789474.\n",
      "[I 2024-05-14 15:02:49,689] Trial 37 finished with value: 70.17543859649122 and parameters: {'k': 96, 'Weight function': 'distance', 'Metric': 'minkowski', 'Minkowski degree': 3.8219797671401414}. Best is trial 0 with value: 92.10526315789474.\n",
      "[I 2024-05-14 15:02:49,708] Trial 38 finished with value: 75.43859649122807 and parameters: {'k': 134, 'Weight function': 'uniform', 'Metric': 'cosine', 'Minkowski degree': 4.361958119200636}. Best is trial 0 with value: 92.10526315789474.\n",
      "[I 2024-05-14 15:02:49,728] Trial 39 finished with value: 70.17543859649122 and parameters: {'k': 47, 'Weight function': 'distance', 'Metric': 'minkowski', 'Minkowski degree': 3.4400620560148143}. Best is trial 0 with value: 92.10526315789474.\n",
      "[I 2024-05-14 15:02:49,747] Trial 40 finished with value: 77.19298245614034 and parameters: {'k': 67, 'Weight function': 'uniform', 'Metric': 'cosine', 'Minkowski degree': 1.8238510646902442}. Best is trial 0 with value: 92.10526315789474.\n",
      "[I 2024-05-14 15:02:49,768] Trial 41 finished with value: 92.10526315789474 and parameters: {'k': 126, 'Weight function': 'distance', 'Metric': 'cosine', 'Minkowski degree': 4.979596415823627}. Best is trial 0 with value: 92.10526315789474.\n",
      "[I 2024-05-14 15:02:49,785] Trial 42 finished with value: 92.10526315789474 and parameters: {'k': 121, 'Weight function': 'distance', 'Metric': 'cosine', 'Minkowski degree': 4.7479421379984865}. Best is trial 0 with value: 92.10526315789474.\n",
      "[I 2024-05-14 15:02:49,808] Trial 43 finished with value: 92.10526315789474 and parameters: {'k': 147, 'Weight function': 'distance', 'Metric': 'cosine', 'Minkowski degree': 4.489653426318739}. Best is trial 0 with value: 92.10526315789474.\n",
      "[I 2024-05-14 15:02:49,827] Trial 44 finished with value: 92.10526315789474 and parameters: {'k': 89, 'Weight function': 'distance', 'Metric': 'cosine', 'Minkowski degree': 4.166871322840024}. Best is trial 0 with value: 92.10526315789474.\n",
      "[I 2024-05-14 15:02:49,844] Trial 45 finished with value: 92.10526315789474 and parameters: {'k': 135, 'Weight function': 'distance', 'Metric': 'cosine', 'Minkowski degree': 4.850151672162957}. Best is trial 0 with value: 92.10526315789474.\n",
      "[I 2024-05-14 15:02:49,861] Trial 46 finished with value: 92.10526315789474 and parameters: {'k': 107, 'Weight function': 'distance', 'Metric': 'cosine', 'Minkowski degree': 1.5893656540608938}. Best is trial 0 with value: 92.10526315789474.\n",
      "[I 2024-05-14 15:02:49,882] Trial 47 finished with value: 67.54385964912281 and parameters: {'k': 169, 'Weight function': 'distance', 'Metric': 'minkowski', 'Minkowski degree': 4.5658015760130315}. Best is trial 0 with value: 92.10526315789474.\n",
      "[I 2024-05-14 15:02:49,898] Trial 48 finished with value: 92.98245614035088 and parameters: {'k': 8, 'Weight function': 'distance', 'Metric': 'cosine', 'Minkowski degree': 3.542066474687374}. Best is trial 48 with value: 92.98245614035088.\n",
      "[I 2024-05-14 15:02:49,917] Trial 49 finished with value: 91.22807017543859 and parameters: {'k': 3, 'Weight function': 'distance', 'Metric': 'cosine', 'Minkowski degree': 3.507559845254742}. Best is trial 48 with value: 92.98245614035088.\n"
     ]
    },
    {
     "data": {
      "text/plain": "FrozenTrial(number=48, state=TrialState.COMPLETE, values=[92.98245614035088], datetime_start=datetime.datetime(2024, 5, 14, 15, 2, 49, 883059), datetime_complete=datetime.datetime(2024, 5, 14, 15, 2, 49, 898064), params={'k': 8, 'Weight function': 'distance', 'Metric': 'cosine', 'Minkowski degree': 3.542066474687374}, user_attrs={}, system_attrs={}, intermediate_values={}, distributions={'k': IntDistribution(high=200, log=False, low=1, step=1), 'Weight function': CategoricalDistribution(choices=('uniform', 'distance')), 'Metric': CategoricalDistribution(choices=('minkowski', 'cosine')), 'Minkowski degree': FloatDistribution(high=5.0, log=False, low=1.0, step=None)}, trial_id=48, value=None)"
     },
     "execution_count": 72,
     "metadata": {},
     "output_type": "execute_result"
    }
   ],
   "source": [
    "from sklearn.neighbors import KNeighborsClassifier\n",
    "\n",
    "\n",
    "def lib_objective(trial):\n",
    "    n_neighbors = trial.suggest_int(\"k\", 1, 200)\n",
    "    weights = trial.suggest_categorical(\"Weight function\", [\"uniform\", \"distance\"])\n",
    "    metric = trial.suggest_categorical(\"Metric\", ['minkowski', 'cosine'])\n",
    "    p = trial.suggest_float(\"Minkowski degree\", 1, 5)\n",
    "    predictions = KNeighborsClassifier(n_neighbors, weights=weights, metric=metric).fit(X_train, y_train).predict(X_test)\n",
    "    return accuracy(y_test, predictions)\n",
    "\n",
    "lib_objective_fixed = lambda trial: lib_objective(trial)\n",
    "\n",
    "study = optuna.create_study(direction=\"maximize\")\n",
    "study.optimize(lib_objective, n_trials=50)\n",
    "best_lib_fixed = study.best_trial\n",
    "best_lib_fixed"
   ],
   "metadata": {
    "collapsed": false,
    "ExecuteTime": {
     "end_time": "2024-05-14T12:02:49.928059Z",
     "start_time": "2024-05-14T12:02:49.064067Z"
    }
   },
   "id": "74c6ad7100fcd268",
   "execution_count": 72
  },
  {
   "cell_type": "markdown",
   "source": [
    "Мы чуть лучше либовской"
   ],
   "metadata": {
    "collapsed": false
   },
   "id": "1f8a8e3894876e8a"
  },
  {
   "cell_type": "code",
   "outputs": [
    {
     "name": "stdout",
     "output_type": "stream",
     "text": [
      "1 done\n",
      "2 done\n",
      "3 done\n",
      "4 done\n",
      "5 done\n",
      "6 done\n",
      "7 done\n",
      "8 done\n",
      "9 done\n",
      "10 done\n",
      "11 done\n",
      "12 done\n",
      "13 done\n",
      "14 done\n",
      "15 done\n",
      "16 done\n",
      "17 done\n",
      "18 done\n",
      "19 done\n",
      "20 done\n",
      "21 done\n",
      "22 done\n",
      "23 done\n",
      "24 done\n",
      "25 done\n",
      "26 done\n",
      "27 done\n",
      "28 done\n",
      "29 done\n",
      "30 done\n",
      "31 done\n",
      "32 done\n",
      "33 done\n",
      "34 done\n",
      "35 done\n",
      "36 done\n",
      "37 done\n",
      "38 done\n",
      "39 done\n",
      "40 done\n",
      "41 done\n",
      "42 done\n",
      "43 done\n",
      "44 done\n",
      "45 done\n",
      "46 done\n",
      "47 done\n",
      "48 done\n",
      "49 done\n",
      "50 done\n",
      "51 done\n",
      "52 done\n",
      "53 done\n",
      "54 done\n",
      "55 done\n",
      "56 done\n",
      "57 done\n",
      "58 done\n",
      "59 done\n",
      "60 done\n",
      "61 done\n",
      "62 done\n",
      "63 done\n",
      "64 done\n",
      "65 done\n",
      "66 done\n",
      "67 done\n",
      "68 done\n",
      "69 done\n",
      "70 done\n",
      "71 done\n",
      "72 done\n",
      "73 done\n",
      "74 done\n",
      "75 done\n",
      "76 done\n",
      "77 done\n",
      "78 done\n",
      "79 done\n",
      "80 done\n",
      "81 done\n",
      "82 done\n",
      "83 done\n",
      "84 done\n",
      "85 done\n",
      "86 done\n",
      "87 done\n",
      "88 done\n",
      "89 done\n",
      "90 done\n",
      "91 done\n",
      "92 done\n",
      "93 done\n",
      "94 done\n",
      "95 done\n",
      "96 done\n",
      "97 done\n",
      "98 done\n",
      "99 done\n",
      "100 done\n",
      "101 done\n",
      "102 done\n",
      "103 done\n",
      "104 done\n",
      "105 done\n",
      "106 done\n",
      "107 done\n",
      "108 done\n",
      "109 done\n",
      "110 done\n",
      "111 done\n",
      "112 done\n",
      "113 done\n",
      "114 done\n",
      "115 done\n",
      "116 done\n",
      "117 done\n",
      "118 done\n",
      "119 done\n",
      "120 done\n",
      "121 done\n",
      "122 done\n",
      "123 done\n",
      "124 done\n",
      "125 done\n",
      "126 done\n",
      "127 done\n",
      "128 done\n",
      "129 done\n",
      "130 done\n",
      "131 done\n",
      "132 done\n",
      "133 done\n",
      "134 done\n",
      "135 done\n",
      "136 done\n",
      "137 done\n",
      "138 done\n",
      "139 done\n",
      "140 done\n",
      "141 done\n",
      "142 done\n",
      "143 done\n",
      "144 done\n",
      "145 done\n",
      "146 done\n",
      "147 done\n",
      "148 done\n",
      "149 done\n",
      "150 done\n",
      "151 done\n",
      "152 done\n",
      "153 done\n",
      "154 done\n",
      "155 done\n",
      "156 done\n",
      "157 done\n",
      "158 done\n",
      "159 done\n",
      "160 done\n",
      "161 done\n",
      "162 done\n",
      "163 done\n",
      "164 done\n",
      "165 done\n",
      "166 done\n",
      "167 done\n",
      "168 done\n",
      "169 done\n",
      "170 done\n",
      "171 done\n",
      "172 done\n",
      "173 done\n",
      "174 done\n",
      "175 done\n",
      "176 done\n",
      "177 done\n",
      "178 done\n",
      "179 done\n",
      "180 done\n",
      "181 done\n",
      "182 done\n",
      "183 done\n",
      "184 done\n",
      "185 done\n",
      "186 done\n",
      "187 done\n",
      "188 done\n",
      "189 done\n",
      "190 done\n",
      "191 done\n",
      "192 done\n",
      "193 done\n",
      "194 done\n",
      "195 done\n",
      "196 done\n",
      "197 done\n",
      "198 done\n",
      "199 done\n",
      "200 done\n"
     ]
    }
   ],
   "source": [
    "def my_accuracy(k, X, y):\n",
    "    knn = KNN(k, metric='cosine', kernel='gauss')\n",
    "    knn.fit(X_train, y_train)\n",
    "    predictions = knn.predict(X)\n",
    "    return accuracy(y, predictions)\n",
    "\n",
    "def lib_accuracy(k, X, y):\n",
    "    predictions = KNeighborsClassifier(weights='distance', metric='cosine', n_neighbors=k).fit(X_train, y_train).predict(X)\n",
    "    return accuracy(y, predictions)\n",
    "\n",
    "xs = [x for x in range(1, 201)]\n",
    "ys_my_val, ys_my_test, ys_lib_val, ys_lib_test = [], [], [], []\n",
    "for k in xs:\n",
    "    ys_my_val.append(my_accuracy(k, X_train, y_train))\n",
    "    ys_my_test.append(my_accuracy(k, X_test, y_test))\n",
    "    ys_lib_val.append(lib_accuracy(k, X_train, y_train))\n",
    "    ys_lib_test.append(lib_accuracy(k, X_test, y_test))\n",
    "    print(k, \"done\")"
   ],
   "metadata": {
    "collapsed": false,
    "ExecuteTime": {
     "end_time": "2024-05-14T12:37:00.968290Z",
     "start_time": "2024-05-14T12:19:34.442965Z"
    }
   },
   "id": "8e914ad6f12731b2",
   "execution_count": 82
  },
  {
   "cell_type": "code",
   "outputs": [
    {
     "data": {
      "text/plain": "<Figure size 640x480 with 1 Axes>",
      "image/png": "[encoded data removed]"
     },
     "metadata": {},
     "output_type": "display_data"
    }
   ],
   "source": [
    "plt.plot(xs, ys_my_val, label='my, val')\n",
    "plt.plot(xs, ys_my_test, label='my, test')\n",
    "plt.plot(xs, ys_lib_val, label='lib, val')\n",
    "plt.plot(xs, ys_lib_test, label='lib, test')\n",
    "plt.xlabel('k')\n",
    "plt.ylabel('Accuracy')\n",
    "plt.show()"
   ],
   "metadata": {
    "collapsed": false,
    "ExecuteTime": {
     "end_time": "2024-05-14T12:37:06.703042Z",
     "start_time": "2024-05-14T12:37:06.589043Z"
    }
   },
   "id": "46219db3be4fc7a3",
   "execution_count": 83
  },
  {
   "cell_type": "code",
   "outputs": [
    {
     "name": "stdout",
     "output_type": "stream",
     "text": [
      "Accuracy 89.67032967032968\n",
      "Anomalies: 47\n"
     ]
    }
   ],
   "source": [
    "counter = 0\n",
    "success = 0\n",
    "normal, anomalies = [], []\n",
    "\n",
    "for x_id in range(len(X_train)):\n",
    "    knn = KNN(\n",
    "        k=5,\n",
    "        metric='cosine',\n",
    "        kernel='general'\n",
    "    )\n",
    "    knn.fit(np.delete(X_train, x_id, 0), np.delete(y_train, x_id, 0))\n",
    "    prediction = knn._predict(X_train[x_id])\n",
    "    counter += 1\n",
    "    true_class = y_train[x_id]\n",
    "    if true_class == prediction:\n",
    "        normal.append(counter - 1)\n",
    "    else:\n",
    "        anomalies.append(counter - 1)\n",
    "\n",
    "print(\"Accuracy\", len(normal) / counter * 100)\n",
    "print(\"Anomalies:\", len(anomalies))\n"
   ],
   "metadata": {
    "collapsed": false,
    "ExecuteTime": {
     "end_time": "2024-05-14T13:11:16.792989Z",
     "start_time": "2024-05-14T13:11:16.042990Z"
    }
   },
   "id": "d3a58097a05c9011",
   "execution_count": 98
  },
  {
   "cell_type": "code",
   "outputs": [
    {
     "data": {
      "text/plain": "Text(0, 0.5, 'Accuracy')"
     },
     "execution_count": 105,
     "metadata": {},
     "output_type": "execute_result"
    },
    {
     "data": {
      "text/plain": "<Figure size 640x480 with 1 Axes>",
      "image/png": "[encoded data removed]"
     },
     "metadata": {},
     "output_type": "display_data"
    }
   ],
   "source": [
    "def get_new_weights(w):\n",
    "    new_weights = []\n",
    "    for i in range(len(X_train)):\n",
    "        if i in anomalies:\n",
    "            new_weights.append(w)\n",
    "        else:\n",
    "            new_weights.append(1)\n",
    "    return new_weights\n",
    "\n",
    "def get_accuracy(w, X, y):\n",
    "    knn = KNN(\n",
    "        k=5,\n",
    "        metric='cosine',\n",
    "        kernel='general'\n",
    "    )\n",
    "    knn.fit(np.delete(X_train, x_id, 0), np.delete(y_train, x_id, 0), get_new_weights(w))\n",
    "    predictions = knn.predict(X)\n",
    "    return accuracy(y, predictions)\n",
    "\n",
    "xs = [x / 10 for x in range(0, 51)]\n",
    "ys = [get_accuracy(w, X_train, y_train) for w in xs]\n",
    "plt.plot(xs, ys)\n",
    "plt.xlabel('w')\n",
    "plt.ylabel('Accuracy')"
   ],
   "metadata": {
    "collapsed": false,
    "ExecuteTime": {
     "end_time": "2024-05-14T13:17:02.077883Z",
     "start_time": "2024-05-14T13:16:41.297882Z"
    }
   },
   "id": "aea1a8f01452d514",
   "execution_count": 105
  },
  {
   "cell_type": "code",
   "outputs": [
    {
     "data": {
      "text/plain": "Text(0, 0.5, 'Accuracy')"
     },
     "execution_count": 106,
     "metadata": {},
     "output_type": "execute_result"
    },
    {
     "data": {
      "text/plain": "<Figure size 640x480 with 1 Axes>",
      "image/png": "[encoded data removed]"
     },
     "metadata": {},
     "output_type": "display_data"
    }
   ],
   "source": [
    "ys = [get_accuracy(w, X_test, y_test) for w in xs]\n",
    "plt.plot(xs, ys)\n",
    "plt.xlabel('w')\n",
    "plt.ylabel('Accuracy')"
   ],
   "metadata": {
    "collapsed": false,
    "ExecuteTime": {
     "end_time": "2024-05-14T13:17:13.117210Z",
     "start_time": "2024-05-14T13:17:07.609221Z"
    }
   },
   "id": "3ce14757959c6ce3",
   "execution_count": 106
  },
  {
   "cell_type": "code",
   "outputs": [],
   "source": [
    "def get_lib_accuracy(X, y, X_t, y_t):\n",
    "    lib_knn = KNeighborsClassifier(weights='distance', metric='cosine', n_neighbors=8)\n",
    "    predictions = lib_knn.fit(X, y).predict(X_t)\n",
    "    return accuracy(y_t.to_list(), predictions)"
   ],
   "metadata": {
    "collapsed": false,
    "ExecuteTime": {
     "end_time": "2024-05-14T13:27:56.112677Z",
     "start_time": "2024-05-14T13:27:56.103669Z"
    }
   },
   "id": "282a467f9a0ebc5e",
   "execution_count": 123
  },
  {
   "cell_type": "code",
   "outputs": [
    {
     "name": "stdout",
     "output_type": "stream",
     "text": [
      "Old accuracy 90.35087719298247\n",
      "New accuracy 91.22807017543859\n"
     ]
    }
   ],
   "source": [
    "X = data.drop('diagnosis',axis=1) \n",
    "y = data['diagnosis']\n",
    "X_train, X_test, y_train, y_test = train_test_split(X, y, test_size=0.2, random_state = 17, shuffle = True)\n",
    "\n",
    "X_an, y_an = X_train.iloc[anomalies], y_train.iloc[anomalies]\n",
    "X_train_sampled, y_train_sampled = pd.concat([X_train, X_an]), pd.concat([y_train, y_an])\n",
    "\n",
    "print(\"Old accuracy\", get_lib_accuracy(X_train, y_train, X_test, y_test))\n",
    "print(\"New accuracy\", get_lib_accuracy(X_train_sampled, y_train_sampled, X_test, y_test))"
   ],
   "metadata": {
    "collapsed": false,
    "ExecuteTime": {
     "end_time": "2024-05-14T13:28:07.769401Z",
     "start_time": "2024-05-14T13:28:07.736389Z"
    }
   },
   "id": "fac80ec3fc404ac8",
   "execution_count": 127
  },
  {
   "cell_type": "code",
   "outputs": [],
   "source": [],
   "metadata": {
    "collapsed": false
   },
   "id": "95f112581c2970cf"
  }
 ],
 "metadata": {
  "kernelspec": {
   "display_name": "Python 3",
   "language": "python",
   "name": "python3"
  },
  "language_info": {
   "codemirror_mode": {
    "name": "ipython",
    "version": 2
   },
   "file_extension": ".py",
   "mimetype": "text/x-python",
   "name": "python",
   "nbconvert_exporter": "python",
   "pygments_lexer": "ipython2",
   "version": "2.7.6"
  }
 },
 "nbformat": 4,
 "nbformat_minor": 5
}
